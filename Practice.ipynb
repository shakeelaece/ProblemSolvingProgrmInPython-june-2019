{
 "cells": [
  {
   "cell_type": "markdown",
   "metadata": {},
   "source": [
    "## Python Arthmetic Operations\n",
    "\n",
    "- (+) :  Add two operands or unary plus #EX: x + y\n",
    "- (-) : Subtract right operand from the left or unary minus #EX: x - y\n",
    "- (*) : Multiply two operands #Ex: x * y\n",
    "- (/) : Divide left operand by the right one (always results into float)  # Ex: x / y\n",
    "- (%) : Modulus - remainder of the division of left operand by the right  # Ex: x % y (remainder of x/y)\n",
    "- (//) : Floor division - division that results into whole number adjusted to the left in the number line  # EX: x // y\n",
    "- (**:doublestar) : Exponent - left operand raised to the power of right # EX: x**y (x to the power y)"
   ]
  },
  {
   "cell_type": "markdown",
   "metadata": {},
   "source": [
    "## Identity operators in Python\n",
    "\n",
    "- is: True if the operands are identical (refer to the same object) -->\tx is True\n",
    "- is not: True if the operands are not identical (do not refer to the same object) --> x is not True"
   ]
  },
  {
   "cell_type": "code",
   "execution_count": null,
   "metadata": {},
   "outputs": [],
   "source": []
  },
  {
   "cell_type": "code",
   "execution_count": 1,
   "metadata": {},
   "outputs": [
    {
     "data": {
      "text/plain": [
       "10"
      ]
     },
     "execution_count": 1,
     "metadata": {},
     "output_type": "execute_result"
    }
   ],
   "source": [
    "a= 1, 2, 3, 4\n",
    "sum(a)"
   ]
  },
  {
   "cell_type": "code",
   "execution_count": 4,
   "metadata": {},
   "outputs": [
    {
     "name": "stdout",
     "output_type": "stream",
     "text": [
      "Enter the number of elements in the list: 5\n",
      "Enter a element: 1\n",
      "Enter a element: 2\n",
      "Enter a element: 3\n",
      "Enter a element: 4\n",
      "Enter a element: 5\n",
      "avg= 3.0\n"
     ]
    }
   ],
   "source": [
    "# Write a Program to Calculate the Average of Numbers in a Given List.\n",
    "\n",
    "n=int(input(\"Enter the number of elements in the list: \"))\n",
    "a=[]\n",
    "for i in range(0,n):\n",
    "    elem=int(input(\"Enter a element: \"))\n",
    "    a.append(elem)\n",
    "print(\"avg=\",sum(a)/n)"
   ]
  },
  {
   "cell_type": "code",
   "execution_count": 5,
   "metadata": {},
   "outputs": [
    {
     "name": "stdout",
     "output_type": "stream",
     "text": [
      "Enter a: 7\n",
      "Enter b: 8\n",
      "8 7\n"
     ]
    }
   ],
   "source": [
    "# Write a Program to exchange the values of two numbers without using a temporary variable.\n",
    "\n",
    "a=int(input(\"Enter a: \"))\n",
    "b=int(input(\"Enter b: \"))\n",
    "a=a+b\n",
    "b=a-b\n",
    "a=a-b\n",
    "print(a,b)"
   ]
  },
  {
   "cell_type": "code",
   "execution_count": 6,
   "metadata": {},
   "outputs": [
    {
     "name": "stdout",
     "output_type": "stream",
     "text": [
      "Enter a value: 5\n",
      "615\n"
     ]
    }
   ],
   "source": [
    "# Write a Python Program to read a number n and compute n+nn+nnn.\n",
    "        # Ex:n=5 --> 5+55+555=615\n",
    "    \n",
    "n=int(input(\"Enter a value: \")) \n",
    "temp=str(n) # Coverted a nuber into string of concatenating\n",
    "t1=temp+temp # Concatenated n value two times i.e, 5+5=55\n",
    "t2=temp+temp+temp # Concatenated n value three times i.e, 5+5+5=555\n",
    "total=n+int(t1)+int(t2) # Coverted stings into integer value and add them\n",
    "print(total)"
   ]
  },
  {
   "cell_type": "code",
   "execution_count": 7,
   "metadata": {},
   "outputs": [
    {
     "name": "stdout",
     "output_type": "stream",
     "text": [
      "enter a number: 78\n",
      "Reverse  87\n"
     ]
    }
   ],
   "source": [
    "# Write a Python Program to reverse a given number.\n",
    "\n",
    "n=int(input(\"enter a number: \"))\n",
    "rem=0\n",
    "while n>0:\n",
    "    i=n%10\n",
    "    rem=rem*10+i\n",
    "    n=n//10\n",
    "print(\"Reverse \", rem)"
   ]
  },
  {
   "cell_type": "code",
   "execution_count": 8,
   "metadata": {},
   "outputs": [
    {
     "name": "stdout",
     "output_type": "stream",
     "text": [
      "Enter a number: 7\n",
      "Positive\n"
     ]
    }
   ],
   "source": [
    "# Write a python Program to check whether a number is positive or negative.\n",
    "\n",
    "n=int(input(\"Enter a number: \"))\n",
    "if n>0:\n",
    "    print(\"Positive\")\n",
    "else:\n",
    "    print(\"Negative\")"
   ]
  },
  {
   "cell_type": "code",
   "execution_count": 9,
   "metadata": {},
   "outputs": [
    {
     "name": "stdout",
     "output_type": "stream",
     "text": [
      "Enter sub1=98\n",
      "Enter sub2=70\n",
      "Enter sub3=82\n",
      "Enter sub4=88\n",
      "Enter sub5=93\n",
      "Grade B\n"
     ]
    }
   ],
   "source": [
    "# Write a Python Program to take in the marks of 5 subjects and display the grade.\n",
    "\n",
    "s1=int(input(\"Enter sub1=\"))\n",
    "s2=int(input(\"Enter sub2=\"))\n",
    "s3=int(input(\"Enter sub3=\"))\n",
    "s4=int(input(\"Enter sub4=\"))\n",
    "s5=int(input(\"Enter sub5=\"))\n",
    "avg=(s1+s2+s3+s4+s5)/5\n",
    "if (avg>=90):\n",
    "    print(\"Grade A\")\n",
    "elif(avg<90 and avg>=80):\n",
    "    print(\"Grade B\")\n",
    "elif(avg<80 and avg>=70):\n",
    "    print(\"Grade C\")\n",
    "elif(avg<70 and avg>=60):\n",
    "    print(\"Grade D\")\n",
    "else:\n",
    "    print(\"Grade Fail\")"
   ]
  },
  {
   "cell_type": "code",
   "execution_count": 10,
   "metadata": {},
   "outputs": [
    {
     "name": "stdout",
     "output_type": "stream",
     "text": [
      "Enter lower num: 100\n",
      "Enter upper num: 200\n",
      "Enter a divisor num: 7\n",
      "105 112 119 126 133 140 147 154 161 168 175 182 189 196 "
     ]
    }
   ],
   "source": [
    "# Write a Python Program to print all numbers in a range divisible by a given number.\n",
    "\n",
    "lower=int(input(\"Enter lower num: \"))\n",
    "upper=int(input(\"Enter upper num: \"))\n",
    "n=int(input(\"Enter a divisor num: \"))\n",
    "for i in range(lower,upper+1):\n",
    "    if i%n==0:\n",
    "        print(i,end=\" \")"
   ]
  },
  {
   "cell_type": "code",
   "execution_count": 11,
   "metadata": {},
   "outputs": [
    {
     "name": "stdout",
     "output_type": "stream",
     "text": [
      "Enter 1st num: 98\n",
      "Enter 2nd num: 22\n",
      "4   10\n"
     ]
    }
   ],
   "source": [
    "# Write a Python Program to read two numbers and print their quotient and remainder.\n",
    "\n",
    "a=int(input(\"Enter 1st num: \"))\n",
    "b=int(input(\"Enter 2nd num: \"))\n",
    "quotient=a//b\n",
    "remainder=a%b\n",
    "print(quotient,\" \", remainder)"
   ]
  },
  {
   "cell_type": "code",
   "execution_count": 12,
   "metadata": {},
   "outputs": [
    {
     "name": "stdout",
     "output_type": "stream",
     "text": [
      "Enter 1st digit20\n",
      "Enter 2nd digit88\n",
      "Enter 3rd digit77\n",
      "20 88 77\n",
      "20 77 88\n",
      "88 20 77\n",
      "88 77 20\n",
      "77 20 88\n",
      "77 88 20\n"
     ]
    }
   ],
   "source": [
    "# Write a Python Program to accept three distinct digits and print all possible combinations from the digits.\n",
    "# Explianation:\n",
    "    #1.User must enter the first, second and third number.\n",
    "    #2.All the elements are appending into a list for the ease of comparison.\n",
    "    #3.The for loops range from 0-2 which are basically the indexes of the three elements in the list.\n",
    "    #4.If none of the indexes are equal to each other, the element associated with the particular element in the list is printed\n",
    "\n",
    "a=int(input(\"Enter 1st digit\"))\n",
    "b=int(input(\"Enter 2nd digit\"))\n",
    "c=int(input(\"Enter 3rd digit\"))\n",
    "d=[]\n",
    "d.append(a)\n",
    "d.append(b)\n",
    "d.append(c)\n",
    "for i in range(0,3):\n",
    "    for j in range(0,3):\n",
    "        for k in range(0,3):\n",
    "            if(i!=j&j!=k&k!=i):\n",
    "                print(d[i],d[j],d[k])"
   ]
  },
  {
   "cell_type": "code",
   "execution_count": 13,
   "metadata": {},
   "outputs": [
    {
     "name": "stdout",
     "output_type": "stream",
     "text": [
      "Enter lower bound: 10\n",
      "Enter upper bound: 20\n",
      "11 13 15 17 19 "
     ]
    }
   ],
   "source": [
    "# Write a Python Program to print odd numbers within a given range.\n",
    "\n",
    "lower=int(input(\"Enter lower bound: \"))\n",
    "upper=int(input(\"Enter upper bound: \"))\n",
    "for i in range(lower,upper+1):\n",
    "    if i%2!=0:\n",
    "        print(i,end=\" \")"
   ]
  },
  {
   "cell_type": "code",
   "execution_count": 14,
   "metadata": {},
   "outputs": [
    {
     "name": "stdout",
     "output_type": "stream",
     "text": [
      "Enter a number78\n",
      "Total=  15\n"
     ]
    }
   ],
   "source": [
    "# Write a Python Program to find the sum of digits in a number.\n",
    "\n",
    "n=int(input(\"Enter a number\"))\n",
    "t=0\n",
    "while(n>0):\n",
    "    dig=n%10\n",
    "    t=t+dig\n",
    "    n=n//10\n",
    "print(\"Total= \",t)"
   ]
  },
  {
   "cell_type": "code",
   "execution_count": 15,
   "metadata": {},
   "outputs": [
    {
     "name": "stdout",
     "output_type": "stream",
     "text": [
      "Enter a number: 78\n",
      "Count:  2\n"
     ]
    }
   ],
   "source": [
    "# Write a python program to count the number of digits in a given number.\n",
    "\n",
    "n=int(input(\"Enter a number: \"))\n",
    "c=0\n",
    "while(n>0):\n",
    "    n=n//10\n",
    "    c+=1\n",
    "print(\"Count: \",c)"
   ]
  },
  {
   "cell_type": "code",
   "execution_count": 16,
   "metadata": {},
   "outputs": [
    {
     "name": "stdout",
     "output_type": "stream",
     "text": [
      "Enter a number: 78\n",
      "smallest divisor:  2\n"
     ]
    }
   ],
   "source": [
    "# Write a Python Program to find the smallest divisor of an integer.\n",
    "\n",
    "n=int(input(\"Enter a number: \"))\n",
    "a=[]\n",
    "for i in range(2,n+1):\n",
    "    if(n%i==0):\n",
    "        a.append(i)\n",
    "a.sort()\n",
    "print(\"smallest divisor: \",a[0])"
   ]
  },
  {
   "cell_type": "code",
   "execution_count": 17,
   "metadata": {},
   "outputs": [
    {
     "name": "stdout",
     "output_type": "stream",
     "text": [
      "Enter a number121\n",
      "Palindrome\n"
     ]
    }
   ],
   "source": [
    "# Write a Python Program to check whether a given number is a palindrome.\n",
    "\n",
    "n=int(input(\"Enter a number\"))\n",
    "temp=n\n",
    "rev=0\n",
    "while(n>0):\n",
    "    dig=n%10\n",
    "    rev=rev*10+dig\n",
    "    n=n//10\n",
    "if(temp==rev):\n",
    "    print(\"Palindrome\")\n",
    "else:\n",
    "    print(\"Not Palindrome\")\n",
    "    \n",
    "    "
   ]
  },
  {
   "cell_type": "code",
   "execution_count": 18,
   "metadata": {},
   "outputs": [
    {
     "name": "stdout",
     "output_type": "stream",
     "text": [
      "1 5 7 11 13 17 19 23 25 29 31 35 37 41 43 47 49 "
     ]
    }
   ],
   "source": [
    "# Write a Python Program to print all integers that aren’t divisible by either 2 or 3 and lies between 1 and 50.\n",
    "\n",
    "\n",
    "for i in range(1,52):\n",
    "    if (i%2!=0 and i%3!=0):\n",
    "        print(i,end=\" \")\n"
   ]
  },
  {
   "cell_type": "code",
   "execution_count": 19,
   "metadata": {},
   "outputs": [
    {
     "name": "stdout",
     "output_type": "stream",
     "text": [
      "Enter a number: 10\n",
      "55\n"
     ]
    }
   ],
   "source": [
    "# Write a Python Program to read a number n and print and compute the series “1+2+…+n=”.\n",
    "\n",
    "n=int(input(\"Enter a number: \"))\n",
    "s=0\n",
    "for i in range(n+1):\n",
    "    s+=i\n",
    "print(s)\n",
    "    "
   ]
  },
  {
   "cell_type": "code",
   "execution_count": 24,
   "metadata": {},
   "outputs": [
    {
     "name": "stdout",
     "output_type": "stream",
     "text": [
      "Enter the date: 4/7/2019\n",
      "The incremented date is:  5 7 2019\n"
     ]
    }
   ],
   "source": [
    "# Write a Python Program to check if a date is valid and print the incremented date if it is.\n",
    "\n",
    "date=input(\"Enter the date: \")\n",
    "dd,mm,yy=date.split('/')\n",
    "dd=int(dd)\n",
    "mm=int(mm)\n",
    "yy=int(yy)\n",
    "if(mm==1 or mm==3 or mm==5 or mm==7 or mm==8 or mm==10 or mm==12):\n",
    "    max1=31\n",
    "elif(mm==4 or mm==6 or mm==9 or mm==11):\n",
    "    max1=30\n",
    "elif(yy%4==0 and yy%100!=0 or yy%400==0):\n",
    "    max1=29\n",
    "else:\n",
    "    max1=28\n",
    "if(mm<1 or mm>12):\n",
    "    print(\"Date is invalid.\")\n",
    "elif(dd<1 or dd>max1):\n",
    "    print(\"Date is invalid.\")\n",
    "elif(dd==max1 and mm!=12):\n",
    "    dd=1\n",
    "    mm=mm+1\n",
    "    print(\"The incremented date is: \",dd,mm,yy)\n",
    "elif(dd==31 and mm==12):\n",
    "    dd=1\n",
    "    mm=1\n",
    "    yy=yy+1\n",
    "    print(\"The incremented date is: \",dd,mm,yy)\n",
    "else:\n",
    "    dd=dd+1\n",
    "    print(\"The incremented date is: \",dd,mm,yy)"
   ]
  },
  {
   "cell_type": "code",
   "execution_count": 25,
   "metadata": {},
   "outputs": [
    {
     "name": "stdout",
     "output_type": "stream",
     "text": [
      "Enter the principle amount:3000.00\n",
      "Enter the time(years):2\n",
      "Enter the rate:1\n",
      "The simple interest is: 60.0\n"
     ]
    }
   ],
   "source": [
    "# Write a Python Program to compute simple interest given all the required values.\n",
    "\n",
    "principle=float(input(\"Enter the principle amount:\"))\n",
    "time=int(input(\"Enter the time(years):\"))\n",
    "rate=float(input(\"Enter the rate:\"))\n",
    "simple_interest=(principle*time*rate)/100\n",
    "print(\"The simple interest is:\",simple_interest)"
   ]
  },
  {
   "cell_type": "code",
   "execution_count": 26,
   "metadata": {},
   "outputs": [
    {
     "name": "stdout",
     "output_type": "stream",
     "text": [
      "Enter a year: 2029\n",
      "Not Leap Year\n"
     ]
    }
   ],
   "source": [
    "# Write a Python Program to check whether a given year is a leap year or not.\n",
    "\n",
    "yy=int(input(\"Enter a year: \"))\n",
    "if(yy%400==0 or (yy%100!=0 and yy%4==0)):\n",
    "    print(\"Leap Year\")\n",
    "else:\n",
    "    print(\"Not Leap Year\")"
   ]
  },
  {
   "cell_type": "code",
   "execution_count": 28,
   "metadata": {},
   "outputs": [
    {
     "name": "stdout",
     "output_type": "stream",
     "text": [
      "Enter the height in centimeters:6\n",
      "The length in inches 2.36\n",
      "The length in feet 0.2\n"
     ]
    }
   ],
   "source": [
    "# Write a Python Program to read height in centimeters and then convert the height to feet and inches.\n",
    "\n",
    "cm=int(input(\"Enter the height in centimeters:\"))\n",
    "inches=0.394*cm\n",
    "feet=0.0328*cm\n",
    "print(\"The length in inches\",round(inches,2))\n",
    "print(\"The length in feet\",round(feet,2))"
   ]
  },
  {
   "cell_type": "code",
   "execution_count": 29,
   "metadata": {},
   "outputs": [
    {
     "name": "stdout",
     "output_type": "stream",
     "text": [
      "Enter the temperature in celcius:33\n",
      "Temperature in farenheit is: 91.4\n"
     ]
    }
   ],
   "source": [
    "# Write a Python Program to take the temperature in Celsius and convert it to Fahrenheit.\n",
    "\n",
    "celsius=int(input(\"Enter the temperature in celcius:\"))\n",
    "f=(celsius*1.8)+32\n",
    "print(\"Temperature in farenheit is:\",f)"
   ]
  },
  {
   "cell_type": "code",
   "execution_count": 30,
   "metadata": {},
   "outputs": [
    {
     "name": "stdout",
     "output_type": "stream",
     "text": [
      "The new list is:  [[23], [79], [146], [156]]\n"
     ]
    }
   ],
   "source": [
    "# Write a Python Program to find the union of two lists.\n",
    "# Ex: [23,56,67,10] --> [23,23+56,23+56+67,23+56+67+10] --> [23,79,146,156]\n",
    "\n",
    "a=[23,56,67,10]\n",
    "b=[]\n",
    "for i in range(0,len(a)):\n",
    "    c=[sum(a[0:i+1])]\n",
    "    b.append(c)\n",
    "print(\"The new list is: \",b)"
   ]
  },
  {
   "cell_type": "code",
   "execution_count": 31,
   "metadata": {},
   "outputs": [
    {
     "name": "stdout",
     "output_type": "stream",
     "text": [
      "[8, 7]\n"
     ]
    }
   ],
   "source": [
    "# Write a Python Program to find the intersection of two lists.\n",
    "\n",
    "a=[7,9,8,2]\n",
    "b=[6,5,7,8]\n",
    "print(list(set(a) & set(b)))"
   ]
  },
  {
   "cell_type": "code",
   "execution_count": 32,
   "metadata": {},
   "outputs": [
    {
     "name": "stdout",
     "output_type": "stream",
     "text": [
      "(1, 1) (2, 4) (3, 9) (4, 16) "
     ]
    }
   ],
   "source": [
    "# Writea Python Program to create a list of tuples with the first element as the number and the second element as the square of the number.\n",
    "\n",
    "a=1\n",
    "b=4\n",
    "for i in range(a,b+1):\n",
    "    a=(i,i**2)\n",
    "    #i=i+1\n",
    "    print(a,end=\" \")"
   ]
  },
  {
   "cell_type": "code",
   "execution_count": 33,
   "metadata": {},
   "outputs": [
    {
     "name": "stdout",
     "output_type": "stream",
     "text": [
      "1\n",
      "4\n",
      "9\n"
     ]
    }
   ],
   "source": [
    "# Write a program to print the perfect squares in a given range\n",
    "# Ex: 9 --> 3*3 --> so 9 is a perfect number\n",
    "# Ex: 8 --> 2*4 --> so 8 is not a perfect number\n",
    "\n",
    "a=1\n",
    "b=10\n",
    "for i in range(a,b+1):\n",
    "    if ((i**0.5)**2)==i:\n",
    "        print(i)"
   ]
  },
  {
   "cell_type": "code",
   "execution_count": 34,
   "metadata": {},
   "outputs": [
    {
     "name": "stdout",
     "output_type": "stream",
     "text": [
      "Enter a number: 9\n",
      "Perfect Square\n"
     ]
    }
   ],
   "source": [
    "#Check the given number is perfect square or not\n",
    "\n",
    "n=int(input(\"Enter a number: \"))\n",
    "if ((n**0.5)**2)==n:\n",
    "    print(\"Perfect Square\")\n",
    "else:\n",
    "    print(\"Not Perfect Square\")"
   ]
  },
  {
   "cell_type": "code",
   "execution_count": 35,
   "metadata": {},
   "outputs": [
    {
     "name": "stdout",
     "output_type": "stream",
     "text": [
      "2\n"
     ]
    }
   ],
   "source": [
    "from random import randint\n",
    "a=[]\n",
    "b=randint(1,20)\n",
    "a.append(b)\n",
    "print(b)"
   ]
  },
  {
   "cell_type": "code",
   "execution_count": 36,
   "metadata": {},
   "outputs": [
    {
     "name": "stdout",
     "output_type": "stream",
     "text": [
      "['Hello.', 'This', 'is', 'Python', 'Programming']\n"
     ]
    }
   ],
   "source": [
    "# Converting a string into a list\n",
    "\n",
    "s=\"Hello. This is Python Programming\"\n",
    "li=list(s.split(\" \"))\n",
    "print(li)"
   ]
  },
  {
   "cell_type": "code",
   "execution_count": 37,
   "metadata": {},
   "outputs": [
    {
     "name": "stdout",
     "output_type": "stream",
     "text": [
      "Enter your key:hii\n",
      "YES\n"
     ]
    }
   ],
   "source": [
    "# Write a Python Program to check if a given key exists in a dictionary or not.\n",
    "\n",
    "d={\"hii\":1,\"Hello\":2,\"hiihello\":3 }\n",
    "key=input(\"Enter your key:\")\n",
    "if key in d.keys():\n",
    "    print(\"YES\")\n",
    "else:\n",
    "    print(\"NO\")"
   ]
  },
  {
   "cell_type": "code",
   "execution_count": 38,
   "metadata": {},
   "outputs": [
    {
     "name": "stdout",
     "output_type": "stream",
     "text": [
      "20\n"
     ]
    }
   ],
   "source": [
    "# Write a program to print the sum of values in the given dictionary.\n",
    "\n",
    "d={'a':7,'b':8,'c':5}\n",
    "print(sum(d.values()))"
   ]
  },
  {
   "cell_type": "code",
   "execution_count": 39,
   "metadata": {},
   "outputs": [
    {
     "name": "stdout",
     "output_type": "stream",
     "text": [
      "280\n"
     ]
    }
   ],
   "source": [
    "# Write a program to multiply the all elements in the given dictionary\n",
    "\n",
    "d={'a':7,'b':8,'c':5}\n",
    "t=1\n",
    "for i in d.values():\n",
    "    t=t*i\n",
    "print(t)"
   ]
  },
  {
   "cell_type": "code",
   "execution_count": 40,
   "metadata": {},
   "outputs": [
    {
     "data": {
      "text/plain": [
       "{'b': 8, 'c': 5}"
      ]
     },
     "execution_count": 40,
     "metadata": {},
     "output_type": "execute_result"
    }
   ],
   "source": [
    "# Deleting a key and its value from a dictionary\n",
    "\n",
    "d={'a':7,'b':8,'c':5}\n",
    "del d['a']\n",
    "d"
   ]
  },
  {
   "cell_type": "code",
   "execution_count": 41,
   "metadata": {},
   "outputs": [
    {
     "name": "stdout",
     "output_type": "stream",
     "text": [
      "haiaia\n",
      "h@i@i@\n"
     ]
    }
   ],
   "source": [
    "# Write a Python Program to replace all occurrences of ‘a’ with ‘@’ in a string.\n",
    "\n",
    "s=input()\n",
    "s=s.replace('a','@')\n",
    "print(s)"
   ]
  },
  {
   "cell_type": "code",
   "execution_count": 42,
   "metadata": {},
   "outputs": [
    {
     "name": "stdout",
     "output_type": "stream",
     "text": [
      "Enter the first number of the series 1\n",
      "Enter the second number of the series 3\n",
      "Enter the number of terms needed 5\n",
      "1 3 4 7 11 "
     ]
    }
   ],
   "source": [
    "# Write a program to generate the febbinocci series\n",
    "\n",
    "a=int(input(\"Enter the first number of the series \"))\n",
    "b=int(input(\"Enter the second number of the series \"))\n",
    "n=int(input(\"Enter the number of terms needed \"))\n",
    "print(a,b,end=\" \")\n",
    "while(n-2):\n",
    "    c=a+b\n",
    "    a=b\n",
    "    b=c\n",
    "    print(c,end=\" \")\n",
    "    n=n-1"
   ]
  },
  {
   "cell_type": "code",
   "execution_count": 43,
   "metadata": {},
   "outputs": [
    {
     "name": "stdout",
     "output_type": "stream",
     "text": [
      "[2, 4, 6, 8, 10]\n",
      "[1, 3, 5, 7, 9]\n"
     ]
    }
   ],
   "source": [
    "# Write a Python Program to put the even and odd elements in a list into two different lists.\n",
    "\n",
    "li=[1,2,3,4,5,6,7,8,9,10]\n",
    "even=[]\n",
    "odd=[]\n",
    "for i in li:\n",
    "    if i%2==0:\n",
    "        even.append(i)\n",
    "    else:\n",
    "        odd.append(i)\n",
    "print(even)\n",
    "print(odd)\n",
    "        "
   ]
  },
  {
   "cell_type": "code",
   "execution_count": 44,
   "metadata": {},
   "outputs": [
    {
     "name": "stdout",
     "output_type": "stream",
     "text": [
      "[1, 2, 3, 4, 5, 6, 7, 8, 9, 10]\n"
     ]
    }
   ],
   "source": [
    "# Write  a Python Program to merge two lists and sort it.\n",
    "\n",
    "li1=[2,4,6,8,10]\n",
    "li2=[1,3,5,7,9]\n",
    "li=li1+li2\n",
    "print(sorted(li))"
   ]
  },
  {
   "cell_type": "code",
   "execution_count": 45,
   "metadata": {},
   "outputs": [
    {
     "name": "stdout",
     "output_type": "stream",
     "text": [
      "[['B', 21], ['C', 26], ['A', 34]]\n"
     ]
    }
   ],
   "source": [
    "# Write a program to sort a list according to the second element in the sublist.\n",
    "\n",
    "a=[['A',34],['B',21],['C',26]]\n",
    "for i in range(0,len(a)):\n",
    "    for j in range(0,len(a)-i-1):\n",
    "        if(a[j][1]>a[j+1][1]):\n",
    "            temp=a[j]\n",
    "            a[j]=a[j+1]\n",
    "            a[j+1]=temp\n",
    "print(a)"
   ]
  },
  {
   "cell_type": "code",
   "execution_count": 46,
   "metadata": {},
   "outputs": [
    {
     "name": "stdout",
     "output_type": "stream",
     "text": [
      "hello\n",
      "3\n",
      "hel\n",
      "o\n"
     ]
    },
    {
     "data": {
      "text/plain": [
       "'helo'"
      ]
     },
     "execution_count": 46,
     "metadata": {},
     "output_type": "execute_result"
    }
   ],
   "source": [
    "# Write a Python Program to remove the nth index character from a non-empty string.\n",
    "\n",
    "\n",
    "def remove(s,n):\n",
    "    start=s[:n]\n",
    "    print(start)\n",
    "    last=s[n+1:]\n",
    "    print(last)\n",
    "    return (start+last)\n",
    "s=input()     # For a string\n",
    "n=int(input())    # A number for removing the nth index\n",
    "\n",
    "remove(s,n)"
   ]
  },
  {
   "cell_type": "code",
   "execution_count": 47,
   "metadata": {},
   "outputs": [
    {
     "name": "stdout",
     "output_type": "stream",
     "text": [
      "hii\n",
      "hia\n",
      "Not Anagrams\n"
     ]
    }
   ],
   "source": [
    "s1=input()\n",
    "s2=input()\n",
    "if sorted(s1)==sorted(s2):\n",
    "    print(\"Anagrams\")\n",
    "else:\n",
    "    print(\"Not Anagrams\")"
   ]
  },
  {
   "cell_type": "code",
   "execution_count": 48,
   "metadata": {},
   "outputs": [
    {
     "name": "stdout",
     "output_type": "stream",
     "text": [
      "hello\n",
      "oellh\n"
     ]
    }
   ],
   "source": [
    "# Write a program to form a new string where the first and last charecters have been exchaanged.\n",
    "\n",
    "string=input()\n",
    "newstring=string[-1:] + string[1:-1] + string[:1]\n",
    "print(newstring)"
   ]
  },
  {
   "cell_type": "code",
   "execution_count": 49,
   "metadata": {},
   "outputs": [
    {
     "name": "stdout",
     "output_type": "stream",
     "text": [
      "HaIHEllo\n",
      "4\n"
     ]
    }
   ],
   "source": [
    "# Write a program to count the number of vowels in a string.\n",
    "\n",
    "def vowels(s):\n",
    "    count=0\n",
    "    for i in s:\n",
    "        if i==\"a\" or i==\"e\" or i==\"i\" or i==\"o\" or i==\"u\":\n",
    "            count=count+1\n",
    "        elif i==\"A\" or i==\"E\" or i==\"I\" or i==\"O\" or i==\"U\" :\n",
    "            count=count+1\n",
    "    print(count)\n",
    "s=input()\n",
    "vowels(s)"
   ]
  },
  {
   "cell_type": "code",
   "execution_count": 50,
   "metadata": {},
   "outputs": [
    {
     "name": "stdout",
     "output_type": "stream",
     "text": [
      "a b c d\n",
      "a:b:c:d\n"
     ]
    }
   ],
   "source": [
    "# Write a Python Program to take a string and replace every blank space with a hyphen.\n",
    "\n",
    "s=input()\n",
    "sr=s.replace(\" \",\":\")\n",
    "print(sr)"
   ]
  },
  {
   "cell_type": "code",
   "execution_count": 51,
   "metadata": {},
   "outputs": [
    {
     "name": "stdout",
     "output_type": "stream",
     "text": [
      "abcdgf\n",
      "6\n"
     ]
    }
   ],
   "source": [
    "# Write a Python Program to calculate the length of a string without using library functions.\n",
    "\n",
    "s=input()\n",
    "count=0\n",
    "for i in s:\n",
    "    count=count+1\n",
    "print(count)"
   ]
  },
  {
   "cell_type": "code",
   "execution_count": 52,
   "metadata": {},
   "outputs": [
    {
     "name": "stdout",
     "output_type": "stream",
     "text": [
      "abcdefg\n",
      "aceg\n"
     ]
    }
   ],
   "source": [
    "# Write a Python Program to remove the characters of odd index values in a string.\n",
    "\n",
    "def remove(s):\n",
    "    final=\"\"\n",
    "    for i in range(len(s)):\n",
    "        if i%2==0:\n",
    "            final=final+s[i]\n",
    "    print(final)\n",
    "s=input()\n",
    "remove(s)"
   ]
  },
  {
   "cell_type": "code",
   "execution_count": 53,
   "metadata": {},
   "outputs": [
    {
     "name": "stdout",
     "output_type": "stream",
     "text": [
      "hii hello how r u\n",
      "17 5 "
     ]
    }
   ],
   "source": [
    "# Write a progrm to count the number of characters and word in a given string\n",
    "\n",
    "s=input()\n",
    "char=0\n",
    "word=1\n",
    "for i in s:\n",
    "    char=char+1\n",
    "    if i==\" \":\n",
    "        word=word+1\n",
    "print(char,word,end=\" \")"
   ]
  },
  {
   "cell_type": "code",
   "execution_count": 57,
   "metadata": {},
   "outputs": [
    {
     "name": "stdout",
     "output_type": "stream",
     "text": [
      "hii\n",
      "hii\n",
      "hii\n"
     ]
    }
   ],
   "source": [
    "# Write  a Python Program to take in two strings and display the larger string without using built-in functions.\n",
    "\n",
    "s1=input()\n",
    "s2=input()\n",
    "count1=0\n",
    "count2=0\n",
    "for i in s1:\n",
    "    count1+=1\n",
    "for i in s2:\n",
    "    count2+=1\n",
    "if count1>count2:\n",
    "    print(s1)\n",
    "else:\n",
    "    print(s2)"
   ]
  },
  {
   "cell_type": "code",
   "execution_count": 59,
   "metadata": {},
   "outputs": [
    {
     "name": "stdout",
     "output_type": "stream",
     "text": [
      "HElloHai\n",
      "5\n"
     ]
    }
   ],
   "source": [
    "# Write a Python Program to count number of lowercase characters in a string.\n",
    "\n",
    "s=input()\n",
    "count=0\n",
    "for i in s:\n",
    "    if i.islower():\n",
    "        count+=1\n",
    "print(count)"
   ]
  },
  {
   "cell_type": "code",
   "execution_count": 60,
   "metadata": {},
   "outputs": [
    {
     "name": "stdout",
     "output_type": "stream",
     "text": [
      "SHHS\n",
      "Palindrome\n"
     ]
    }
   ],
   "source": [
    "# Write a python program to check if the given string is Palindrome or not.\n",
    "\n",
    "s=input()\n",
    "if(s==s[::-1]):\n",
    "    print(\"Palindrome\")\n",
    "else:\n",
    "    print(\"Not Palindrome\")"
   ]
  },
  {
   "cell_type": "code",
   "execution_count": 62,
   "metadata": {},
   "outputs": [
    {
     "name": "stdout",
     "output_type": "stream",
     "text": [
      "HELLOhaii\n",
      "5 4 "
     ]
    }
   ],
   "source": [
    "# Write a Python Program to count the number of lowercase letters and uppercase letters in a string.\n",
    "\n",
    "s=input()\n",
    "count1=0\n",
    "count2=0\n",
    "for i in s:\n",
    "    if i.isupper():\n",
    "        count1+=1\n",
    "    elif i.islower():\n",
    "        count2+=1\n",
    "print(count1,count2,end=\" \")"
   ]
  },
  {
   "cell_type": "code",
   "execution_count": 63,
   "metadata": {},
   "outputs": [
    {
     "name": "stdout",
     "output_type": "stream",
     "text": [
      "Enter a hyphen separated sequence of words:\n",
      "b-a-d-e-c-h-f\n",
      "Sorted:\n",
      "a-b-c-d-e-f-h\n"
     ]
    }
   ],
   "source": [
    "# Wrrite  a Python Program to accept a hyphen separated sequence of words as input\n",
    "# and print the words in a hyphen-separated sequence after sorting them alphabetically.\n",
    "\n",
    "print(\"Enter a hyphen separated sequence of words:\")\n",
    "li=[n for n in input().split('-')]  \n",
    "li.sort()\n",
    "print(\"Sorted:\")\n",
    "print('-'.join(lst))"
   ]
  },
  {
   "cell_type": "code",
   "execution_count": 64,
   "metadata": {},
   "outputs": [
    {
     "name": "stdout",
     "output_type": "stream",
     "text": [
      "hii@123\n",
      "3 3 "
     ]
    }
   ],
   "source": [
    "# Write a Python Program to calculate the number of digits and letters in a string.\n",
    "\n",
    "s=input()\n",
    "digits=0\n",
    "letters=0\n",
    "for i in s:\n",
    "    if i.isdigit():\n",
    "        digits+=1\n",
    "    elif i.isalpha():\n",
    "        letters+=1\n",
    "print(digits,letters,end=\" \")\n"
   ]
  },
  {
   "cell_type": "code",
   "execution_count": null,
   "metadata": {},
   "outputs": [],
   "source": []
  },
  {
   "cell_type": "code",
   "execution_count": null,
   "metadata": {},
   "outputs": [],
   "source": []
  }
 ],
 "metadata": {
  "kernelspec": {
   "display_name": "Python 3",
   "language": "python",
   "name": "python3"
  },
  "language_info": {
   "codemirror_mode": {
    "name": "ipython",
    "version": 3
   },
   "file_extension": ".py",
   "mimetype": "text/x-python",
   "name": "python",
   "nbconvert_exporter": "python",
   "pygments_lexer": "ipython3",
   "version": "3.7.3"
  }
 },
 "nbformat": 4,
 "nbformat_minor": 2
}
