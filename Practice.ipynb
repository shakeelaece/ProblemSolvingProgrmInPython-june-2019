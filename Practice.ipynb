{
 "cells": [
  {
   "cell_type": "markdown",
   "metadata": {},
   "source": [
    "## Python Arthmetic Operations\n",
    "\n",
    "- (+) :  Add two operands or unary plus #EX: x + y\n",
    "- (-) : Subtract right operand from the left or unary minus #EX: x - y\n",
    "- (*) : Multiply two operands #Ex: x * y\n",
    "- (/) : Divide left operand by the right one (always results into float)  # Ex: x / y\n",
    "- (%) : Modulus - remainder of the division of left operand by the right  # Ex: x % y (remainder of x/y)\n",
    "- (//) : Floor division - division that results into whole number adjusted to the left in the number line  # EX: x // y\n",
    "- (**:doublestar) : Exponent - left operand raised to the power of right # EX: x**y (x to the power y)"
   ]
  },
  {
   "cell_type": "markdown",
   "metadata": {},
   "source": [
    "## Identity operators in Python\n",
    "\n",
    "- is: True if the operands are identical (refer to the same object) -->\tx is True\n",
    "- is not: True if the operands are not identical (do not refer to the same object) --> x is not True"
   ]
  },
  {
   "cell_type": "code",
   "execution_count": null,
   "metadata": {},
   "outputs": [],
   "source": []
  },
  {
   "cell_type": "code",
   "execution_count": 1,
   "metadata": {},
   "outputs": [
    {
     "data": {
      "text/plain": [
       "10"
      ]
     },
     "execution_count": 1,
     "metadata": {},
     "output_type": "execute_result"
    }
   ],
   "source": [
    "a= 1, 2, 3, 4\n",
    "sum(a)"
   ]
  },
  {
   "cell_type": "code",
   "execution_count": 2,
   "metadata": {},
   "outputs": [
    {
     "name": "stdout",
     "output_type": "stream",
     "text": [
      "Enter the number of elements in the list: 5\n",
      "Enter a element: 25\n",
      "Enter a element: 50\n",
      "Enter a element: 200\n",
      "Enter a element: 250\n",
      "Enter a element: 78\n",
      "avg= 120.6\n"
     ]
    }
   ],
   "source": [
    "# Write a Program to Calculate the Average of Numbers in a Given List.\n",
    "\n",
    "n=int(input(\"Enter the number of elements in the list: \"))\n",
    "a=[]\n",
    "for i in range(0,n):\n",
    "    elem=int(input(\"Enter a element: \"))\n",
    "    a.append(elem)\n",
    "print(\"avg=\",sum(a)/n)"
   ]
  },
  {
   "cell_type": "code",
   "execution_count": 5,
   "metadata": {},
   "outputs": [
    {
     "name": "stdout",
     "output_type": "stream",
     "text": [
      "Enter a: 8\n",
      "Enter b: 7\n",
      "7 8\n"
     ]
    }
   ],
   "source": [
    "# Write a Program to exchange the values of two numbers without using a temporary variable.\n",
    "\n",
    "a=int(input(\"Enter a: \"))\n",
    "b=int(input(\"Enter b: \"))\n",
    "a=a+b\n",
    "b=a-b\n",
    "a=a-b\n",
    "print(a,b)"
   ]
  },
  {
   "cell_type": "code",
   "execution_count": 11,
   "metadata": {},
   "outputs": [
    {
     "name": "stdout",
     "output_type": "stream",
     "text": [
      "Enter a value: 5\n",
      "615\n"
     ]
    }
   ],
   "source": [
    "# Write a Python Program to read a number n and compute n+nn+nnn.\n",
    "        # Ex:n=5 --> 5+55+555=615\n",
    "    \n",
    "n=int(input(\"Enter a value: \")) \n",
    "temp=str(n) # Coverted a nuber into string of concatenating\n",
    "t1=temp+temp # Concatenated n value two times i.e, 5+5=55\n",
    "t2=temp+temp+temp # Concatenated n value three times i.e, 5+5+5=555\n",
    "total=n+int(t1)+int(t2) # Coverted stings into integer value and add them\n",
    "print(total)"
   ]
  },
  {
   "cell_type": "code",
   "execution_count": 12,
   "metadata": {},
   "outputs": [
    {
     "name": "stdout",
     "output_type": "stream",
     "text": [
      "enter a number: 78\n",
      "Reverse  87\n"
     ]
    }
   ],
   "source": [
    "# Write a Python Program to reverse a given number.\n",
    "\n",
    "n=int(input(\"enter a number: \"))\n",
    "rem=0\n",
    "while n>0:\n",
    "    i=n%10\n",
    "    rem=rem*10+i\n",
    "    n=n//10\n",
    "print(\"Reverse \", rem)"
   ]
  },
  {
   "cell_type": "code",
   "execution_count": 3,
   "metadata": {},
   "outputs": [
    {
     "name": "stdout",
     "output_type": "stream",
     "text": [
      "Enter a number: -7\n",
      "Negative\n"
     ]
    }
   ],
   "source": [
    "# Write a python Program to check whether a number is positive or negative.\n",
    "\n",
    "n=int(input(\"Enter a number: \"))\n",
    "if n>0:\n",
    "    print(\"Positive\")\n",
    "else:\n",
    "    print(\"Negative\")"
   ]
  },
  {
   "cell_type": "code",
   "execution_count": 4,
   "metadata": {},
   "outputs": [
    {
     "name": "stdout",
     "output_type": "stream",
     "text": [
      "Enter sub1=78\n",
      "Enter sub2=87\n",
      "Enter sub3=99\n",
      "Enter sub4=89\n",
      "Enter sub5=65\n",
      "Grade B\n"
     ]
    }
   ],
   "source": [
    "# Write a Python Program to take in the marks of 5 subjects and display the grade.\n",
    "\n",
    "s1=int(input(\"Enter sub1=\"))\n",
    "s2=int(input(\"Enter sub2=\"))\n",
    "s3=int(input(\"Enter sub3=\"))\n",
    "s4=int(input(\"Enter sub4=\"))\n",
    "s5=int(input(\"Enter sub5=\"))\n",
    "avg=(s1+s2+s3+s4+s5)/5\n",
    "if (avg>=90):\n",
    "    print(\"Grade A\")\n",
    "elif(avg<90 and avg>=80):\n",
    "    print(\"Grade B\")\n",
    "elif(avg<80 and avg>=70):\n",
    "    print(\"Grade C\")\n",
    "elif(avg<70 and avg>=60):\n",
    "    print(\"Grade D\")\n",
    "else:\n",
    "    print(\"Grade Fail\")"
   ]
  },
  {
   "cell_type": "code",
   "execution_count": 4,
   "metadata": {},
   "outputs": [
    {
     "name": "stdout",
     "output_type": "stream",
     "text": [
      "Enter lower num: 10\n",
      "Enter upper num: 50\n",
      "Enter a divisor num: 5\n",
      "10 15 20 25 30 35 40 45 50 "
     ]
    }
   ],
   "source": [
    "# Write a Python Program to print all numbers in a range divisible by a given number.\n",
    "\n",
    "lower=int(input(\"Enter lower num: \"))\n",
    "upper=int(input(\"Enter upper num: \"))\n",
    "n=int(input(\"Enter a divisor num: \"))\n",
    "for i in range(lower,upper+1):\n",
    "    if i%n==0:\n",
    "        print(i,end=\" \")"
   ]
  },
  {
   "cell_type": "code",
   "execution_count": 6,
   "metadata": {},
   "outputs": [
    {
     "name": "stdout",
     "output_type": "stream",
     "text": [
      "Enter 1st num: 6\n",
      "Enter 2nd num: 3\n",
      "2   0\n"
     ]
    }
   ],
   "source": [
    "# Write a Python Program to read two numbers and print their quotient and remainder.\n",
    "\n",
    "a=int(input(\"Enter 1st num: \"))\n",
    "b=int(input(\"Enter 2nd num: \"))\n",
    "quotient=a//b\n",
    "remainder=a%b\n",
    "print(quotient,\" \", remainder)"
   ]
  },
  {
   "cell_type": "code",
   "execution_count": 12,
   "metadata": {},
   "outputs": [
    {
     "name": "stdout",
     "output_type": "stream",
     "text": [
      "Enter 1st digit1\n",
      "Enter 2nd digit2\n",
      "Enter 3rd digit3\n",
      "1 2 3\n",
      "1 3 2\n",
      "2 1 3\n",
      "2 3 1\n",
      "3 1 2\n",
      "3 2 1\n"
     ]
    }
   ],
   "source": [
    "# Write a Python Program to accept three distinct digits and print all possible combinations from the digits.\n",
    "# Explianation:\n",
    "    #1.User must enter the first, second and third number.\n",
    "    #2.All the elements are appending into a list for the ease of comparison.\n",
    "    #3.The for loops range from 0-2 which are basically the indexes of the three elements in the list.\n",
    "    #4.If none of the indexes are equal to each other, the element associated with the particular element in the list is printed\n",
    "\n",
    "a=int(input(\"Enter 1st digit\"))\n",
    "b=int(input(\"Enter 2nd digit\"))\n",
    "c=int(input(\"Enter 3rd digit\"))\n",
    "d=[]\n",
    "d.append(a)\n",
    "d.append(b)\n",
    "d.append(c)\n",
    "for i in range(0,3):\n",
    "    for j in range(0,3):\n",
    "        for k in range(0,3):\n",
    "            if(i!=j&j!=k&k!=i):\n",
    "                print(d[i],d[j],d[k])"
   ]
  },
  {
   "cell_type": "code",
   "execution_count": 16,
   "metadata": {},
   "outputs": [
    {
     "name": "stdout",
     "output_type": "stream",
     "text": [
      "Enter lower bound: 1\n",
      "Enter upper bound: 10\n",
      "1 3 5 7 9 "
     ]
    }
   ],
   "source": [
    "# Write a Python Program to print odd numbers within a given range.\n",
    "\n",
    "lower=int(input(\"Enter lower bound: \"))\n",
    "upper=int(input(\"Enter upper bound: \"))\n",
    "for i in range(lower,upper+1):\n",
    "    if i%2!=0:\n",
    "        print(i,end=\" \")"
   ]
  },
  {
   "cell_type": "code",
   "execution_count": 17,
   "metadata": {},
   "outputs": [
    {
     "name": "stdout",
     "output_type": "stream",
     "text": [
      "Enter a number78\n",
      "Total=  15\n"
     ]
    }
   ],
   "source": [
    "# Write a Python Program to find the sum of digits in a number.\n",
    "\n",
    "n=int(input(\"Enter a number\"))\n",
    "t=0\n",
    "while(n>0):\n",
    "    dig=n%10\n",
    "    t=t+dig\n",
    "    n=n//10\n",
    "print(\"Total= \",t)"
   ]
  },
  {
   "cell_type": "code",
   "execution_count": 24,
   "metadata": {},
   "outputs": [
    {
     "name": "stdout",
     "output_type": "stream",
     "text": [
      "Enter a number: 0658760\n",
      "Count:  6\n"
     ]
    }
   ],
   "source": [
    "# Write a python program to count the number of digits in a given number.\n",
    "\n",
    "n=int(input(\"Enter a number: \"))\n",
    "c=0\n",
    "while(n>0):\n",
    "    n=n//10\n",
    "    c+=1\n",
    "print(\"Count: \",c)"
   ]
  },
  {
   "cell_type": "code",
   "execution_count": 2,
   "metadata": {},
   "outputs": [
    {
     "name": "stdout",
     "output_type": "stream",
     "text": [
      "Enter a number: 15\n",
      "smallest divisor:  3\n"
     ]
    }
   ],
   "source": [
    "# Write a Python Program to find the smallest divisor of an integer.\n",
    "\n",
    "n=int(input(\"Enter a number: \"))\n",
    "a=[]\n",
    "for i in range(2,n+1):\n",
    "    if(n%i==0):\n",
    "        a.append(i)\n",
    "a.sort()\n",
    "print(\"smallest divisor: \",a[0])"
   ]
  },
  {
   "cell_type": "code",
   "execution_count": 3,
   "metadata": {},
   "outputs": [
    {
     "name": "stdout",
     "output_type": "stream",
     "text": [
      "Enter a number1234321\n",
      "Palindrome\n"
     ]
    }
   ],
   "source": [
    "# Write a Python Program to check whether a given number is a palindrome.\n",
    "\n",
    "n=int(input(\"Enter a number\"))\n",
    "temp=n\n",
    "rev=0\n",
    "while(n>0):\n",
    "    dig=n%10\n",
    "    rev=rev*10+dig\n",
    "    n=n//10\n",
    "if(temp==rev):\n",
    "    print(\"Palindrome\")\n",
    "else:\n",
    "    print(\"Not Palindrome\")\n",
    "    \n",
    "    "
   ]
  },
  {
   "cell_type": "code",
   "execution_count": 1,
   "metadata": {},
   "outputs": [
    {
     "name": "stdout",
     "output_type": "stream",
     "text": [
      "1 5 7 11 13 17 19 23 25 29 31 35 37 41 43 47 49 "
     ]
    }
   ],
   "source": [
    "# Write a Python Program to print all integers that aren’t divisible by either 2 or 3 and lies between 1 and 50.\n",
    "\n",
    "\n",
    "for i in range(1,52):\n",
    "    if (i%2!=0 and i%3!=0):\n",
    "        print(i,end=\" \")\n"
   ]
  },
  {
   "cell_type": "code",
   "execution_count": 4,
   "metadata": {},
   "outputs": [
    {
     "name": "stdout",
     "output_type": "stream",
     "text": [
      "Enter a number: 4\n",
      "10\n"
     ]
    }
   ],
   "source": [
    "# Write a Python Program to read a number n and print and compute the series “1+2+…+n=”.\n",
    "\n",
    "n=int(input(\"Enter a number: \"))\n",
    "s=0\n",
    "for i in range(n+1):\n",
    "    s+=i\n",
    "print(s)\n",
    "    "
   ]
  },
  {
   "cell_type": "code",
   "execution_count": 3,
   "metadata": {},
   "outputs": [
    {
     "name": "stdout",
     "output_type": "stream",
     "text": [
      "Enter the date: 31/12/2019\n",
      "The incremented date is:  1 1 2020\n"
     ]
    }
   ],
   "source": [
    "# Write a Python Program to check if a date is valid and print the incremented date if it is.\n",
    "\n",
    "date=input(\"Enter the date: \")\n",
    "dd,mm,yy=date.split('/')\n",
    "dd=int(dd)\n",
    "mm=int(mm)\n",
    "yy=int(yy)\n",
    "if(mm==1 or mm==3 or mm==5 or mm==7 or mm==8 or mm==10 or mm==12):\n",
    "    max1=31\n",
    "elif(mm==4 or mm==6 or mm==9 or mm==11):\n",
    "    max1=30\n",
    "elif(yy%4==0 and yy%100!=0 or yy%400==0):\n",
    "    max1=29\n",
    "else:\n",
    "    max1=28\n",
    "if(mm<1 or mm>12):\n",
    "    print(\"Date is invalid.\")\n",
    "elif(dd<1 or dd>max1):\n",
    "    print(\"Date is invalid.\")\n",
    "elif(dd==max1 and mm!=12):\n",
    "    dd=1\n",
    "    mm=mm+1\n",
    "    print(\"The incremented date is: \",dd,mm,yy)\n",
    "elif(dd==31 and mm==12):\n",
    "    dd=1\n",
    "    mm=1\n",
    "    yy=yy+1\n",
    "    print(\"The incremented date is: \",dd,mm,yy)\n",
    "else:\n",
    "    dd=dd+1\n",
    "    print(\"The incremented date is: \",dd,mm,yy)"
   ]
  },
  {
   "cell_type": "code",
   "execution_count": 5,
   "metadata": {},
   "outputs": [
    {
     "name": "stdout",
     "output_type": "stream",
     "text": [
      "Enter the principle amount:300000\n",
      "Enter the time(years):3\n",
      "Enter the rate:10\n",
      "The simple interest is: 90000.0\n"
     ]
    }
   ],
   "source": [
    "# Write a Python Program to compute simple interest given all the required values.\n",
    "\n",
    "principle=float(input(\"Enter the principle amount:\"))\n",
    "time=int(input(\"Enter the time(years):\"))\n",
    "rate=float(input(\"Enter the rate:\"))\n",
    "simple_interest=(principle*time*rate)/100\n",
    "print(\"The simple interest is:\",simple_interest)"
   ]
  },
  {
   "cell_type": "code",
   "execution_count": 7,
   "metadata": {},
   "outputs": [
    {
     "name": "stdout",
     "output_type": "stream",
     "text": [
      "Enter a year1999\n",
      "Not Leap Year\n"
     ]
    }
   ],
   "source": [
    "# Write a Python Program to check whether a given year is a leap year or not.\n",
    "\n",
    "yy=int(input(\"Enter a year: \"))\n",
    "if(yy%400==0 or (yy%100!=0 and yy%4==0)):\n",
    "    print(\"Leap Year\")\n",
    "else:\n",
    "    print(\"Not Leap Year\")"
   ]
  },
  {
   "cell_type": "code",
   "execution_count": 9,
   "metadata": {},
   "outputs": [
    {
     "name": "stdout",
     "output_type": "stream",
     "text": [
      "Enter the height in centimeters:60\n",
      "The length in inches 23.64\n",
      "The length in feet 1.97\n"
     ]
    }
   ],
   "source": [
    "# Write a Python Program to read height in centimeters and then convert the height to feet and inches.\n",
    "\n",
    "cm=int(input(\"Enter the height in centimeters:\"))\n",
    "inches=0.394*cm\n",
    "feet=0.0328*cm\n",
    "print(\"The length in inches\",round(inches,2))\n",
    "print(\"The length in feet\",round(feet,2))"
   ]
  },
  {
   "cell_type": "code",
   "execution_count": 10,
   "metadata": {},
   "outputs": [
    {
     "name": "stdout",
     "output_type": "stream",
     "text": [
      "Enter the temperature in celcius:32\n",
      "Temperature in farenheit is: 89.6\n"
     ]
    }
   ],
   "source": [
    "# Write a Python Program to take the temperature in Celsius and convert it to Fahrenheit.\n",
    "\n",
    "celsius=int(input(\"Enter the temperature in celcius:\"))\n",
    "f=(celsius*1.8)+32\n",
    "print(\"Temperature in farenheit is:\",f)"
   ]
  },
  {
   "cell_type": "code",
   "execution_count": 10,
   "metadata": {},
   "outputs": [
    {
     "name": "stdout",
     "output_type": "stream",
     "text": [
      "The new list is:  [[23], [79], [146], [156]]\n"
     ]
    }
   ],
   "source": [
    "# Write a Python Program to find the union of two lists.\n",
    "# Ex: [23,56,67,10] --> [23,23+56,23+56+67,23+56+67+10] --> [23,79,146,156]\n",
    "\n",
    "a=[23,56,67,10]\n",
    "b=[]\n",
    "for i in range(0,len(a)):\n",
    "    c=[sum(a[0:i+1])]\n",
    "    b.append(c)\n",
    "print(\"The new list is: \",b)"
   ]
  },
  {
   "cell_type": "code",
   "execution_count": 11,
   "metadata": {},
   "outputs": [
    {
     "name": "stdout",
     "output_type": "stream",
     "text": [
      "[8, 7]\n"
     ]
    }
   ],
   "source": [
    "# Write a Python Program to find the intersection of two lists.\n",
    "\n",
    "a=[7,9,8,2]\n",
    "b=[6,5,7,8]\n",
    "print(list(set(a) & set(b)))"
   ]
  },
  {
   "cell_type": "code",
   "execution_count": 15,
   "metadata": {},
   "outputs": [
    {
     "name": "stdout",
     "output_type": "stream",
     "text": [
      "(1, 1) (2, 4) (3, 9) (4, 16) "
     ]
    }
   ],
   "source": [
    "# Writea Python Program to create a list of tuples with the first element as the number and the second element as the square of the number.\n",
    "\n",
    "a=1\n",
    "b=4\n",
    "for i in range(a,b+1):\n",
    "    a=(i,i**2)\n",
    "    #i=i+1\n",
    "    print(a,end=\" \")"
   ]
  },
  {
   "cell_type": "code",
   "execution_count": 20,
   "metadata": {},
   "outputs": [
    {
     "name": "stdout",
     "output_type": "stream",
     "text": [
      "1\n",
      "4\n",
      "9\n"
     ]
    }
   ],
   "source": [
    "# Write a program to print the perfect squares in a given range\n",
    "# Ex: 9 --> 3*3 --> so 9 is a perfect number\n",
    "# Ex: 8 --> 2*4 --> so 8 is not a perfect number\n",
    "\n",
    "a=1\n",
    "b=10\n",
    "for i in range(a,b+1):\n",
    "    if ((i**0.5)**2)==i:\n",
    "        print(i)"
   ]
  },
  {
   "cell_type": "code",
   "execution_count": 24,
   "metadata": {},
   "outputs": [
    {
     "name": "stdout",
     "output_type": "stream",
     "text": [
      "Enter a number: 7\n",
      "Not Perfect Square\n"
     ]
    }
   ],
   "source": [
    "#Check the given number is perfect square or not\n",
    "\n",
    "n=int(input(\"Enter a number: \"))\n",
    "if ((n**0.5)**2)==n:\n",
    "    print(\"Perfect Square\")\n",
    "else:\n",
    "    print(\"Not Perfect Square\")"
   ]
  },
  {
   "cell_type": "code",
   "execution_count": 2,
   "metadata": {},
   "outputs": [
    {
     "name": "stdout",
     "output_type": "stream",
     "text": [
      "19\n"
     ]
    }
   ],
   "source": [
    "from random import randint\n",
    "a=[]\n",
    "b=randint(1,20)\n",
    "a.append(b)\n",
    "print(b)"
   ]
  },
  {
   "cell_type": "code",
   "execution_count": 3,
   "metadata": {},
   "outputs": [
    {
     "name": "stdout",
     "output_type": "stream",
     "text": [
      "['Hello.', 'This', 'is', 'Python', 'Programming']\n"
     ]
    }
   ],
   "source": [
    "# Converting a string into a list\n",
    "\n",
    "s=\"Hello. This is Python Programming\"\n",
    "li=list(s.split(\" \"))\n",
    "print(li)"
   ]
  },
  {
   "cell_type": "code",
   "execution_count": 6,
   "metadata": {},
   "outputs": [
    {
     "name": "stdout",
     "output_type": "stream",
     "text": [
      "Enter your key:Hello\n",
      "YES\n"
     ]
    }
   ],
   "source": [
    "# Write a Python Program to check if a given key exists in a dictionary or not.\n",
    "\n",
    "d={\"hii\":1,\"Hello\":2,\"hiihello\":3 }\n",
    "key=input(\"Enter your key:\")\n",
    "if key in d.keys():\n",
    "    print(\"YES\")\n",
    "else:\n",
    "    print(\"NO\")"
   ]
  },
  {
   "cell_type": "code",
   "execution_count": 9,
   "metadata": {},
   "outputs": [
    {
     "name": "stdout",
     "output_type": "stream",
     "text": [
      "20\n"
     ]
    }
   ],
   "source": [
    "# Write a program to print the sum of values in the given dictionary.\n",
    "\n",
    "d={'a':7,'b':8,'c':5}\n",
    "print(sum(d.values()))"
   ]
  },
  {
   "cell_type": "code",
   "execution_count": 12,
   "metadata": {},
   "outputs": [
    {
     "name": "stdout",
     "output_type": "stream",
     "text": [
      "280\n"
     ]
    }
   ],
   "source": [
    "# Write a program to multiply the all elements in the given dictionary\n",
    "\n",
    "d={'a':7,'b':8,'c':5}\n",
    "t=1\n",
    "for i in d.values():\n",
    "    t=t*i\n",
    "print(t)"
   ]
  },
  {
   "cell_type": "code",
   "execution_count": 19,
   "metadata": {},
   "outputs": [
    {
     "data": {
      "text/plain": [
       "{'b': 8, 'c': 5}"
      ]
     },
     "execution_count": 19,
     "metadata": {},
     "output_type": "execute_result"
    }
   ],
   "source": [
    "# Deleting a key and its value from a dictionary\n",
    "\n",
    "d={'a':7,'b':8,'c':5}\n",
    "del d['a']\n",
    "d"
   ]
  },
  {
   "cell_type": "code",
   "execution_count": 25,
   "metadata": {},
   "outputs": [
    {
     "name": "stdout",
     "output_type": "stream",
     "text": [
      "haiaaa\n",
      "h@i@@@\n"
     ]
    }
   ],
   "source": [
    "# Write a Python Program to replace all occurrences of ‘a’ with ‘$’ in a string.\n",
    "\n",
    "s=input()\n",
    "s=s.replace('a','@')\n",
    "print(s)"
   ]
  },
  {
   "cell_type": "code",
   "execution_count": 26,
   "metadata": {},
   "outputs": [
    {
     "name": "stdout",
     "output_type": "stream",
     "text": [
      "Enter the first number of the series 0\n",
      "Enter the second number of the series 1\n",
      "Enter the number of terms needed 10\n",
      "0 1 1 2 3 5 8 13 21 34 "
     ]
    }
   ],
   "source": [
    "# Write a program to generate the febbinocci series\n",
    "\n",
    "a=int(input(\"Enter the first number of the series \"))\n",
    "b=int(input(\"Enter the second number of the series \"))\n",
    "n=int(input(\"Enter the number of terms needed \"))\n",
    "print(a,b,end=\" \")\n",
    "while(n-2):\n",
    "    c=a+b\n",
    "    a=b\n",
    "    b=c\n",
    "    print(c,end=\" \")\n",
    "    n=n-1"
   ]
  },
  {
   "cell_type": "code",
   "execution_count": null,
   "metadata": {},
   "outputs": [],
   "source": []
  },
  {
   "cell_type": "code",
   "execution_count": null,
   "metadata": {},
   "outputs": [],
   "source": []
  },
  {
   "cell_type": "code",
   "execution_count": null,
   "metadata": {},
   "outputs": [],
   "source": []
  },
  {
   "cell_type": "code",
   "execution_count": null,
   "metadata": {},
   "outputs": [],
   "source": []
  }
 ],
 "metadata": {
  "kernelspec": {
   "display_name": "Python 3",
   "language": "python",
   "name": "python3"
  },
  "language_info": {
   "codemirror_mode": {
    "name": "ipython",
    "version": 3
   },
   "file_extension": ".py",
   "mimetype": "text/x-python",
   "name": "python",
   "nbconvert_exporter": "python",
   "pygments_lexer": "ipython3",
   "version": "3.7.3"
  }
 },
 "nbformat": 4,
 "nbformat_minor": 2
}
