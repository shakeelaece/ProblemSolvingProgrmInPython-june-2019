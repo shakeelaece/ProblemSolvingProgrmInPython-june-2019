{
 "cells": [
  {
   "cell_type": "markdown",
   "metadata": {},
   "source": [
    "## Day Objectives\n",
    "- String Slicing\n",
    "- Function in Python\n",
    "- Basic Problems related to conditional statements using functions\n",
    "- Iteration in Python "
   ]
  },
  {
   "cell_type": "code",
   "execution_count": null,
   "metadata": {},
   "outputs": [],
   "source": []
  },
  {
   "cell_type": "markdown",
   "metadata": {},
   "source": [
    "### String Slicing"
   ]
  },
  {
   "cell_type": "code",
   "execution_count": 1,
   "metadata": {},
   "outputs": [
    {
     "data": {
      "text/plain": [
       "'nhy'"
      ]
     },
     "execution_count": 1,
     "metadata": {},
     "output_type": "execute_result"
    }
   ],
   "source": [
    "s1 = \"Python\"\n",
    "s1 # Accessing the String\n",
    "s1[0] # Accessing the 1st Character in the string\n",
    "s1[len(s1)-1] # Accessing the last Character in the string\n",
    "s1[-1] # Another way of accessing the last Character in the string\n",
    "s1[0:2] # Accessing the 1st two characters in the string\n",
    "s1[-2:] # Accessing the last two characters in the string\n",
    "s1[4:] # Accessing the all characters from 5th character to the last character\n",
    "\n",
    "\n",
    "# Accessing the all characters except first and last character\n",
    "s1[1:-1] \n",
    "\n",
    "# Accessing the middle characters in an odd length string\n",
    "s1[len(s1)//2]\n",
    "\n",
    "s1[-1:0:-1] # Reverse of a string\n",
    "\n",
    "s1[-1:-3:-1] # Accessing last two characters in reverse order\n",
    "\n",
    "# Reverse the middle two characters in an even length string\n",
    "s1[len(s1)//2:len(s1)//2-2:-1]\n",
    "\n",
    "# Accessing alternate characters in a string\n",
    "# \"Python\" --> \"Pto\"\n",
    "s1[::2]\n",
    "\n",
    "# Accessing alternate characters of a string in reverse order\n",
    "# \"Python\" --> \"nhy\"\n",
    "s1[::-2]"
   ]
  },
  {
   "cell_type": "code",
   "execution_count": null,
   "metadata": {},
   "outputs": [],
   "source": []
  },
  {
   "cell_type": "markdown",
   "metadata": {},
   "source": [
    "### Functions in Python"
   ]
  },
  {
   "cell_type": "code",
   "execution_count": 4,
   "metadata": {
    "scrolled": true
   },
   "outputs": [
    {
     "data": {
      "text/plain": [
       "'nohtyP'"
      ]
     },
     "execution_count": 4,
     "metadata": {},
     "output_type": "execute_result"
    }
   ],
   "source": [
    "#Function to reverse a string\n",
    "def reverseString(s):\n",
    "    return s[::-1]\n",
    "reverseString(\"Python\")"
   ]
  },
  {
   "cell_type": "code",
   "execution_count": 6,
   "metadata": {},
   "outputs": [
    {
     "data": {
      "text/plain": [
       "True"
      ]
     },
     "execution_count": 6,
     "metadata": {},
     "output_type": "execute_result"
    }
   ],
   "source": [
    "# Function to check if a string is a Palindrome\n",
    "def palindrome(s):\n",
    "    if s == s[::-1]:\n",
    "        return True\n",
    "    else:\n",
    "        return False\n",
    "palindrome(\"racecar\")"
   ]
  },
  {
   "cell_type": "code",
   "execution_count": 45,
   "metadata": {},
   "outputs": [
    {
     "data": {
      "text/plain": [
       "False"
      ]
     },
     "execution_count": 45,
     "metadata": {},
     "output_type": "execute_result"
    }
   ],
   "source": [
    "# Function to check if a given year is leap year or not\n",
    "def isLeapYear(y):\n",
    "    if y % 400 == 0 or (y % 100 != 0 and y % 4 == 0):\n",
    "        return True\n",
    "    else:\n",
    "        return False\n",
    "isLeapYear(2019)"
   ]
  },
  {
   "cell_type": "code",
   "execution_count": 46,
   "metadata": {},
   "outputs": [
    {
     "data": {
      "text/plain": [
       "4"
      ]
     },
     "execution_count": 46,
     "metadata": {},
     "output_type": "execute_result"
    }
   ],
   "source": [
    "# Count the number of digits in a given number\n",
    "def number(n):\n",
    "    return len(str(n))\n",
    "number(1234)"
   ]
  },
  {
   "cell_type": "code",
   "execution_count": 53,
   "metadata": {},
   "outputs": [
    {
     "data": {
      "text/plain": [
       "(100, 'is greater')"
      ]
     },
     "execution_count": 53,
     "metadata": {},
     "output_type": "execute_result"
    }
   ],
   "source": [
    "#Function to identify the greatest of 4 numbers\n",
    "def numbers(n1, n2, n3, n4):\n",
    "    if n1 > n2 and n1 > n3 and n1 > n4:\n",
    "        return (n1, \"is greater\")\n",
    "    elif n2 > n3 and n2 > n4:\n",
    "        return (n2, \"is greater\")\n",
    "    elif n3 > n4:\n",
    "        return (n3, \"is greater\")\n",
    "    else:\n",
    "        return (n4, \"is greater\")\n",
    "numbers(72, 100, 88, 45)"
   ]
  },
  {
   "cell_type": "code",
   "execution_count": null,
   "metadata": {},
   "outputs": [],
   "source": []
  },
  {
   "cell_type": "markdown",
   "metadata": {},
   "source": [
    "### Iteration\n",
    "- for\n",
    "- while"
   ]
  },
  {
   "cell_type": "code",
   "execution_count": 62,
   "metadata": {},
   "outputs": [
    {
     "name": "stdout",
     "output_type": "stream",
     "text": [
      "1 2 3 4 5 6 7 8 9 10 11 12 13 14 15 16 17 18 19 20 "
     ]
    }
   ],
   "source": [
    "# Function to print n numbers\n",
    "\n",
    "def printNnaturalnumbers(n):\n",
    "    for count in range(1, n+1):\n",
    "        print(count, end=\" \")\n",
    "    return\n",
    "printNnaturalnumbers(20)"
   ]
  },
  {
   "cell_type": "code",
   "execution_count": 8,
   "metadata": {},
   "outputs": [
    {
     "name": "stdout",
     "output_type": "stream",
     "text": [
      "500 505 510 515 520 525 530 535 540 545 550 "
     ]
    }
   ],
   "source": [
    "# Function to print the alternate values in a range in the same line\n",
    "#[] --> inclusive set means include the bounderies in maths\n",
    "#[500,550] --> 500 502 504 ........ 550\n",
    "#() --> exclusive set means exclude the bounderies in maths\n",
    "#(500,550) --> 501 503 505 ........ 549\n",
    "# All set based functions in Python have start value inclusive and end value is exclusive\n",
    "# Ex: range(500,550) --> 500 501 502 ....... 549\n",
    "\n",
    "\n",
    "def alternateValues(lb, ub):\n",
    "    for i in range(lb, ub+1, 2):\n",
    "        print(i, end=\" \")\n",
    "    return\n",
    "alternateValues(500, 550)"
   ]
  },
  {
   "cell_type": "code",
   "execution_count": 17,
   "metadata": {},
   "outputs": [
    {
     "name": "stdout",
     "output_type": "stream",
     "text": [
      "510 509 508 507 506 505 504 503 502 501 500 "
     ]
    }
   ],
   "source": [
    "# Function to print reverse of a given range in the same line\n",
    "\n",
    "def reverseValues(lb, ub):\n",
    "    for i in range(ub, lb-1, -1):\n",
    "        print(i, end=\" \")\n",
    "    return\n",
    "reverseValues(500,510)"
   ]
  },
  {
   "cell_type": "code",
   "execution_count": 22,
   "metadata": {},
   "outputs": [
    {
     "name": "stdout",
     "output_type": "stream",
     "text": [
      "119 117 115 113 111 109 107 105 103 "
     ]
    }
   ],
   "source": [
    "# Function to print the odd numbers in reverse order in a range\n",
    "\n",
    "def oddReverse(lb, ub):\n",
    "    for i in range(ub, lb-1, -1):\n",
    "        if (i % 2 != 0):\n",
    "            print(i, end=\" \")\n",
    "        i += 1\n",
    "    return\n",
    "oddReverse(101,120)"
   ]
  },
  {
   "cell_type": "code",
   "execution_count": 28,
   "metadata": {},
   "outputs": [
    {
     "data": {
      "text/plain": [
       "75250"
      ]
     },
     "execution_count": 28,
     "metadata": {},
     "output_type": "execute_result"
    }
   ],
   "source": [
    "# Function to calculate the sum of numbers in a range\n",
    "\n",
    "def sumNumbers(lb, ub):\n",
    "    s = 0\n",
    "    for i in range(lb, ub+1):\n",
    "        s = s + i\n",
    "    return s\n",
    "sumNumbers(100,400)\n"
   ]
  },
  {
   "cell_type": "code",
   "execution_count": 33,
   "metadata": {},
   "outputs": [
    {
     "data": {
      "text/plain": [
       "50.0"
      ]
     },
     "execution_count": 33,
     "metadata": {},
     "output_type": "execute_result"
    }
   ],
   "source": [
    "# Function to calculate the average of a given range\n",
    "\n",
    "def avg(lb, ub):\n",
    "    s = 0\n",
    "    count = 0\n",
    "    for i in range(lb, ub+1):\n",
    "        s = s + i\n",
    "        count += 1\n",
    "    return (s/count) # In place of calculate the count we directly use (end-start)\n",
    "avg(10,90)\n",
    "        "
   ]
  },
  {
   "cell_type": "code",
   "execution_count": 26,
   "metadata": {},
   "outputs": [
    {
     "name": "stdout",
     "output_type": "stream",
     "text": [
      "1976 1980 1984 1988 1992 1996 "
     ]
    }
   ],
   "source": [
    "# Function to generate all leap years in a given time period\n",
    "# 2000-2020 --> 2000 2004 2008 2012 2016 2020\n",
    "\n",
    "def isLeapYear(year):\n",
    "    if year%400==0 or (year%100!=0 and year%4==0):\n",
    "        return True\n",
    "    return False\n",
    "def generateLeapYears(startyear,endyear):\n",
    "    for year in range(startyear, endyear+1):\n",
    "        if isLeapYear(year):\n",
    "            print(year, end=\" \")\n",
    "    return \n",
    "generateLeapYears(1975,1999)\n",
    "    "
   ]
  },
  {
   "cell_type": "code",
   "execution_count": 82,
   "metadata": {
    "scrolled": true
   },
   "outputs": [
    {
     "data": {
      "text/plain": [
       "1096"
      ]
     },
     "execution_count": 82,
     "metadata": {},
     "output_type": "execute_result"
    }
   ],
   "source": [
    "# Generate number of days in a given time period using leapyear logic\n",
    "\n",
    "\n",
    "def numberOfDays(startyear,endyear):\n",
    "    s = 0\n",
    "    for year in range(startyear,endyear+1):\n",
    "        if isLeapYear(year):\n",
    "            s = s + 366\n",
    "        else:\n",
    "            s = s + 365\n",
    "    return s\n",
    "numberOfDays(2000,2002)"
   ]
  },
  {
   "cell_type": "code",
   "execution_count": 85,
   "metadata": {},
   "outputs": [
    {
     "data": {
      "text/plain": [
       "1464"
      ]
     },
     "execution_count": 85,
     "metadata": {},
     "output_type": "execute_result"
    }
   ],
   "source": [
    "# Function to calculate number of years for givrn period in the format(month1,year1,month2,year2)\n",
    "# Ex: (11,1975,03,1999)\n",
    "# No.of hours = 24 * No.of days\n",
    "# 3 Steps\n",
    "    # 1. Start month year to end of year -- calculate no.of days\n",
    "    # 2. Calculate days for all years between start year and end year\n",
    "            # 2017, 2018 -- 365 * no.of years\n",
    "    # 3. Calculate days from Jan to end month year\n",
    "\n",
    "def numberOfDaysMonth(month,year):\n",
    "    if month==2:\n",
    "        if isLeapYear(year):\n",
    "            return 29\n",
    "        return 28\n",
    "    elif (month <= 7 and month % 2 != 0) or (month >= 8 and month % 2 == 0):\n",
    "        return 31\n",
    "    else:\n",
    "        return 30\n",
    "\n",
    "def daysInStartYear(startmonth, startyear):\n",
    "    days = 0\n",
    "    for month in range(startmonth, 13):\n",
    "        days += numberOfDaysMonth(startmonth, startyear)\n",
    "    return days\n",
    "\n",
    "def dayInEndYear(endmonth, endyear):\n",
    "    days = 0\n",
    "    for month in range(1, endmonth+1):\n",
    "        days += numberOfDaysMonth(endmonth, endyear)\n",
    "    return days\n",
    "\n",
    "def numberOfHours(startmonth,startyear,endmonth,endyear):\n",
    "    days=0\n",
    "    days += numberOfDaysMonth(startmonth, startyear)\n",
    "    days += numberOfDaysMonth(endmonth,endyear)\n",
    "    if endyear-startyear==2:\n",
    "        days += numberOfDays(startyear+1, startyear+1)\n",
    "    elif endyear-startyear>2:\n",
    "         days += numberOfDays(startyear+1, endyear-1)\n",
    "    return 24*days\n",
    "numberOfHours(14,2018,7,2018)\n",
    "        \n",
    "\n",
    "\n"
   ]
  },
  {
   "cell_type": "code",
   "execution_count": null,
   "metadata": {},
   "outputs": [],
   "source": []
  },
  {
   "cell_type": "code",
   "execution_count": null,
   "metadata": {},
   "outputs": [],
   "source": []
  },
  {
   "cell_type": "code",
   "execution_count": 1,
   "metadata": {},
   "outputs": [
    {
     "name": "stdout",
     "output_type": "stream",
     "text": [
      "1 2 3 4 5 6 7 8 9 10 "
     ]
    }
   ],
   "source": [
    "# Function to print N Natural numbers using while loop\n",
    "\n",
    "def nNaturalNumbers(n):\n",
    "    counter = 1\n",
    "    while counter <= n:\n",
    "        print(counter, end = \" \")\n",
    "        counter += 1\n",
    "    return\n",
    "nNaturalNumbers(10)"
   ]
  },
  {
   "cell_type": "code",
   "execution_count": 18,
   "metadata": {},
   "outputs": [
    {
     "name": "stdout",
     "output_type": "stream",
     "text": [
      "6 12 18 24 30 36 42 48 54 60 66 72 78 84 90 96 "
     ]
    }
   ],
   "source": [
    "# Function to print all numbers divisible by 6 and not a factor of 100 in a given range(lb,ub)\n",
    "# inclusive bounds\n",
    "\n",
    "def rangeofnumbers(lb, ub):\n",
    "    while lb <= ub:\n",
    "        if (lb % 6 == 0 and 100 % lb != 0):\n",
    "            print(lb, end = \" \")\n",
    "        lb += 1\n",
    "    return\n",
    "rangeofnumbers(1,100)"
   ]
  },
  {
   "cell_type": "code",
   "execution_count": 31,
   "metadata": {},
   "outputs": [
    {
     "data": {
      "text/plain": [
       "248744.0"
      ]
     },
     "execution_count": 31,
     "metadata": {},
     "output_type": "execute_result"
    }
   ],
   "source": [
    "#Function to find the average of cubes of all even numbers in a given range(lb,ub) inclusive bounds\n",
    "\n",
    "def avgCubesEven(lb, ub):\n",
    "    count = 0\n",
    "    s = 0\n",
    "    for i in range(lb, ub+1):\n",
    "        if i % 2 == 0:\n",
    "            s +=i**3\n",
    "            count += 1\n",
    "    return s/count\n",
    "avgCubesEven(50,75)\n"
   ]
  },
  {
   "cell_type": "code",
   "execution_count": 7,
   "metadata": {},
   "outputs": [
    {
     "data": {
      "text/plain": [
       "6"
      ]
     },
     "execution_count": 7,
     "metadata": {},
     "output_type": "execute_result"
    }
   ],
   "source": [
    "#Function to generate the sum of the factors for a given number\n",
    "# 12 --> 1 2 3 4 6 12\n",
    "\n",
    "def factorsList(n):\n",
    "    sum = 0\n",
    "    for i in range(1, n//2+1):\n",
    "        if n % i == 0:\n",
    "            sum += i\n",
    "    return sum\n",
    "\n",
    "factorsList(6)"
   ]
  },
  {
   "cell_type": "code",
   "execution_count": 25,
   "metadata": {},
   "outputs": [
    {
     "data": {
      "text/plain": [
       "6"
      ]
     },
     "execution_count": 25,
     "metadata": {},
     "output_type": "execute_result"
    }
   ],
   "source": [
    "#Function to generate the factorial of a given number\n",
    "\n",
    "def factorialofnumber(n):\n",
    "    fact = 1\n",
    "    for i in range (1,n+1):\n",
    "        fact *= i\n",
    "    return fact\n",
    "factorialofnumber(3)\n",
    "    "
   ]
  },
  {
   "cell_type": "code",
   "execution_count": 20,
   "metadata": {},
   "outputs": [
    {
     "data": {
      "text/plain": [
       "False"
      ]
     },
     "execution_count": 20,
     "metadata": {},
     "output_type": "execute_result"
    }
   ],
   "source": [
    "#Function to check if a given number is prime\n",
    "\n",
    "def isPrime(n):\n",
    "    flag=1\n",
    "    for i in range(2,n+1):\n",
    "        if n%i==0:\n",
    "            flag=False\n",
    "            return flag\n",
    "    return True\n",
    "isPrime(19)"
   ]
  },
  {
   "cell_type": "code",
   "execution_count": 4,
   "metadata": {},
   "outputs": [
    {
     "name": "stdout",
     "output_type": "stream",
     "text": [
      "5\n",
      "7\n",
      "9\n",
      "11\n",
      "13\n",
      "15\n",
      "17\n",
      "19\n",
      "21\n",
      "23\n"
     ]
    },
    {
     "data": {
      "text/plain": [
       "14.0"
      ]
     },
     "execution_count": 4,
     "metadata": {},
     "output_type": "execute_result"
    }
   ],
   "source": [
    "#Function to generate the average of first N prime numbers\n",
    "def avgNPrime(n):\n",
    "    primeCount = 0\n",
    "    sum = 0\n",
    "    seqCount = 2\n",
    "    while(primeCount<n):\n",
    "        if isPrime(seqCount):\n",
    "            primeCount +=1\n",
    "            sum += seqCount\n",
    "            print(seqCount)\n",
    "        seqCount += 1\n",
    "    return sum/n\n",
    "avgNPrime(10)"
   ]
  },
  {
   "cell_type": "code",
   "execution_count": 8,
   "metadata": {},
   "outputs": [
    {
     "name": "stdout",
     "output_type": "stream",
     "text": [
      "6 28 496 8128 "
     ]
    }
   ],
   "source": [
    "#Function to generate all Perfect numbers in a given range\n",
    "def isPerfect(n):\n",
    "    if factorsList(n) == n:\n",
    "        return True\n",
    "    return False\n",
    "\n",
    "def generatePerfect(lb, ub):\n",
    "    for i in range(lb, ub+1):\n",
    "        if isPerfect(i):\n",
    "            print(i, end=\" \")\n",
    "    return\n",
    "\n",
    "generatePerfect(1, 10000)"
   ]
  },
  {
   "cell_type": "markdown",
   "metadata": {},
   "source": [
    "#### Advanced Problem Set(optional)"
   ]
  },
  {
   "cell_type": "code",
   "execution_count": 1,
   "metadata": {},
   "outputs": [
    {
     "name": "stdout",
     "output_type": "stream",
     "text": [
      "38.0\n"
     ]
    }
   ],
   "source": [
    "# Function to generate average of all factorials in a given range\n",
    "\n",
    "def avgFactorials(l,r):\n",
    "    f=1\n",
    "    s=0\n",
    "    count=0\n",
    "    for i in range(l,r+1):\n",
    "        f=f*i\n",
    "        s+=f\n",
    "        count+=1\n",
    "    print(s/count)\n",
    "avgFactorials(2,5)"
   ]
  },
  {
   "cell_type": "code",
   "execution_count": 3,
   "metadata": {},
   "outputs": [
    {
     "ename": "IndentationError",
     "evalue": "unexpected indent (<ipython-input-3-5bdc3af9f537>, line 14)",
     "output_type": "error",
     "traceback": [
      "\u001b[1;36m  File \u001b[1;32m\"<ipython-input-3-5bdc3af9f537>\"\u001b[1;36m, line \u001b[1;32m14\u001b[0m\n\u001b[1;33m    sum += digit ** order\u001b[0m\n\u001b[1;37m    ^\u001b[0m\n\u001b[1;31mIndentationError\u001b[0m\u001b[1;31m:\u001b[0m unexpected indent\n"
     ]
    }
   ],
   "source": [
    "# Function to generate N odd armstrong numbers\n",
    "\n",
    "\n",
    "def oddArmstrong(num):\n",
    "    sum = 0    # initialize sum\n",
    "    for num in range(lower, upper + 1):\n",
    "        order = len(str(num))      # order of number\n",
    "        \n",
    "     # find the sum of the cube of each digit    \n",
    "    temp = num\n",
    "    while temp > 0:\n",
    "        \n",
    "           digit = temp % 10\n",
    "            sum += digit ** order\n",
    "            temp //= 10\n",
    "            if num == sum:\n",
    "                print(num)\n",
    "    return sum\n",
    "oddArmstrong(1000)\n"
   ]
  },
  {
   "cell_type": "code",
   "execution_count": 66,
   "metadata": {},
   "outputs": [
    {
     "name": "stdout",
     "output_type": "stream",
     "text": [
      "10 * 100 = 1000\n",
      "10 * 101 = 1010\n",
      "10 * 102 = 1020\n"
     ]
    }
   ],
   "source": [
    "# Function to generate Multiplication table for a number in a given range\n",
    "# Ex: 10 in the range(100,102)\n",
    "#           10*100=1000\n",
    "#           10*101=1010\n",
    "#           10*102=1020\n",
    "\n",
    "def mul(n,lb,ub):\n",
    "    for i in range(lb,ub+1):\n",
    "        print(n,'*',i,'=',n*i)\n",
    "    return\n",
    "mul(10,100,102)\n",
    "\n",
    "        "
   ]
  },
  {
   "cell_type": "code",
   "execution_count": null,
   "metadata": {},
   "outputs": [],
   "source": []
  },
  {
   "cell_type": "code",
   "execution_count": 22,
   "metadata": {},
   "outputs": [
    {
     "data": {
      "text/plain": [
       "'abcde'"
      ]
     },
     "execution_count": 22,
     "metadata": {},
     "output_type": "execute_result"
    }
   ],
   "source": [
    "s=\"aBcDE\"\n",
    "s.lower()\n"
   ]
  },
  {
   "cell_type": "code",
   "execution_count": 3,
   "metadata": {},
   "outputs": [
    {
     "name": "stdout",
     "output_type": "stream",
     "text": [
      "0.0\n"
     ]
    }
   ],
   "source": [
    "def isPrime(n):\n",
    "    flag=1\n",
    "    for i in range(2,n+1):\n",
    "        if n%i==0:\n",
    "            flag=False\n",
    "            return flag\n",
    "    return True\n",
    "def avgPrime(n):\n",
    "    count=0\n",
    "    s=0\n",
    "    for i in range(2,n+1):\n",
    "        if isPrime(i):\n",
    "            s+=i\n",
    "        count+=1\n",
    "    print(s/count)\n",
    "avgPrime(10)"
   ]
  },
  {
   "cell_type": "code",
   "execution_count": null,
   "metadata": {},
   "outputs": [],
   "source": []
  }
 ],
 "metadata": {
  "kernelspec": {
   "display_name": "Python 3",
   "language": "python",
   "name": "python3"
  },
  "language_info": {
   "codemirror_mode": {
    "name": "ipython",
    "version": 3
   },
   "file_extension": ".py",
   "mimetype": "text/x-python",
   "name": "python",
   "nbconvert_exporter": "python",
   "pygments_lexer": "ipython3",
   "version": "3.7.3"
  }
 },
 "nbformat": 4,
 "nbformat_minor": 2
}
