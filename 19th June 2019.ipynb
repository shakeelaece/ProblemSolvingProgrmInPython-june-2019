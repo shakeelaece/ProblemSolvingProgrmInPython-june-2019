{
 "cells": [
  {
   "cell_type": "code",
   "execution_count": 2,
   "metadata": {},
   "outputs": [
    {
     "name": "stdout",
     "output_type": "stream",
     "text": [
      "4321\n",
      "Motu\n"
     ]
    }
   ],
   "source": [
    "# Patlu and Motu works in a building construction, they have to put some number of bricks N from one place to another, and started doing their work. They decided , they end up with a fun challenge who will put the last brick.\n",
    "\n",
    "# They to follow a simple rule, In the i'th round, Patlu puts i bricks whereas Motu puts ix2 bricks.\n",
    "\n",
    "# There are only N bricks, you need to help find the challenge result to find who put the last brick.\n",
    "# Output \"Patlu\" (without the quotes) if Patlu puts the last bricks ,\"Motu\"(without the quotes) otherwise.\n",
    "\n",
    "def lastBrick(n):\n",
    "    p=0\n",
    "    m=0\n",
    "    for i in range(1,n+1):\n",
    "        if (i<=n):\n",
    "           p=i\n",
    "           m=p*2\n",
    "    if (n-(m+p)==1 and p==1):\n",
    "        print(\"Patlu\")\n",
    "        \n",
    "    else:\n",
    "        print(\"Motu\")\n",
    "    return\n",
    "n=int(input())\n",
    "lastBrick(n)\n"
   ]
  },
  {
   "cell_type": "code",
   "execution_count": 4,
   "metadata": {},
   "outputs": [
    {
     "name": "stdout",
     "output_type": "stream",
     "text": [
      "2\n",
      "3\n",
      "A\n",
      "5\n",
      "A\n"
     ]
    }
   ],
   "source": [
    "# There are 7 floors in BH3 and only 2 lifts. Initially Lift A is at the ground floor and Lift B at the top floor.\n",
    "# Whenever someone calls the lift from N th floor, the lift closest to that floor comes to pick him up. \n",
    "# If both the lifts are at equidistant from the N th floor, them the lift from the lower floor comes up.\n",
    "\n",
    "A=0\n",
    "B=7\n",
    "t=int(input())\n",
    "for i in range(t):\n",
    "    n=int(input())\n",
    "    lA=abs(A-n)\n",
    "    lB=abs(B-n)\n",
    "    if(lA<=lB):\n",
    "        print(\"A\")\n",
    "        A=n\n",
    "    else:\n",
    "        print(\"B\")\n",
    "        B=n\n"
   ]
  },
  {
   "cell_type": "code",
   "execution_count": null,
   "metadata": {},
   "outputs": [],
   "source": [
    "# You have been given an array A of size N consisting of positive integers.\n",
    "# You need to find and print the product of all the number in this array Modulo (10^9+7)\n",
    "\n",
    "n=int(input())\n",
    "a=[]\n",
    "inp=input().split()\n",
    "for i in inp:\n",
    "    a.append(int(i))\n",
    "def product(n):\n",
    "    ans=1\n",
    "    for i in range(0,n):\n",
    "        ans=(ans*a[i])%((10**9)+7)\n",
    "    print(ans)\n",
    "    return\n",
    "\n",
    "product(n)"
   ]
  },
  {
   "cell_type": "code",
   "execution_count": 2,
   "metadata": {},
   "outputs": [
    {
     "name": "stdout",
     "output_type": "stream",
     "text": [
      "150\n",
      "3\n",
      "300 300\n",
      "ACCEPTED\n",
      "100 80\n",
      "UPLOAD ANOTHER\n",
      "560 200\n",
      "CROP IT\n"
     ]
    }
   ],
   "source": [
    "# Roy wants to change his profile picture on Facebook. Now Facebook has some restriction over the dimension of picture that we can upload.\n",
    "# Minimum dimension of the picture can be L x L, where L is the length of the side of square.\n",
    "\n",
    "# Now Roy has N photos of various dimensions.\n",
    "# Dimension of a photo is denoted as W x H \n",
    "# where W - width of the photo and H - Height of the photo\n",
    "\n",
    "# When any photo is uploaded following events may occur:\n",
    "    # [1] If any of the width or height is less than L, user is prompted to upload another one. Print \"UPLOAD ANOTHER\" in this case.\n",
    "    # [2] If width and height, both are large enough and \n",
    "        # (a) if the photo is already square then it is accepted. Print \"ACCEPTED\" in this case.\n",
    "        # (b) else user is prompted to crop it. Print \"CROP IT\" in this case.\n",
    "        \n",
    "        \n",
    "l=int(input())\n",
    "n=int(input())\n",
    "s=[]\n",
    "for i in range(n):\n",
    "    s=list(map(int,input().split()))\n",
    "    w=s[0]\n",
    "    h=s[1]\n",
    "    if (w<l or h<l):\n",
    "        print(\"UPLOAD ANOTHER\")\n",
    "    elif(w==h):\n",
    "        print(\"ACCEPTED\")\n",
    "    else:\n",
    "        print(\"CROP IT\")\n"
   ]
  },
  {
   "cell_type": "code",
   "execution_count": null,
   "metadata": {},
   "outputs": [],
   "source": [
    "# Kirti is new to programming and she doesn't know how to code.\n",
    "# Can you write a code, which would print \"Hello Kirti\" on the screen.\n",
    "\n",
    "name=\"Hello Kirti\"\n",
    "print(name)"
   ]
  },
  {
   "cell_type": "code",
   "execution_count": 3,
   "metadata": {},
   "outputs": [
    {
     "name": "stdout",
     "output_type": "stream",
     "text": [
      "12X345-67\n",
      "invalid\n"
     ]
    }
   ],
   "source": [
    "# Arpasland has surrounded by attackers. A truck enters the city. The driver claims the load is food and medicine from Iranians. \n",
    "#Ali is one of the soldiers in Arpasland. He doubts about the truck, maybe it's from the siege.\n",
    "# He knows that a tag is valid if the sum of every two consecutive digits of it is even and its letter is not a vowel.\n",
    "# Determine if the tag of the truck is valid or not.\n",
    "# We consider the letters \"A\",\"E\",\"I\",\"O\",\"U\",\"Y\" to be vowels for this problem.\n",
    "# Input Format:\n",
    "        #The first line contains a string of length 9. The format is \"DDXDDD-DD\", where D stands for a digit (non zero) and X is an uppercase english letter.\n",
    "# Output Format:\n",
    "        # Print \"valid\" (without quotes) if the tag is valid, print \"invalid\" otherwise (without quotes)\n",
    "    \n",
    "s=input()\n",
    "c=8\n",
    "for i in range(0,len(s)-1,1):\n",
    "    if s[i].isdigit()==True and s[i+1].isdigit()==True:\n",
    "        if (int(s[i])+int(s[i+1]))%2!=0:\n",
    "            c=0\n",
    "            print(\"invalid\")\n",
    "            break\n",
    "    elif(s[i].isalpha()==True) and s[i]!=\"X\" and s[i]!=\"B\":\n",
    "        if s[i]==\"A\" or \"E\" or \"I\" or \"O\" or \"U\" or \"a\" or \"e\" or \"i\" or \"o\" or \"u\":\n",
    "            c=0\n",
    "            print(\"invalid\")\n",
    "            break\n",
    "if(c!=0):\n",
    "    print(\"valid\")"
   ]
  },
  {
   "cell_type": "code",
   "execution_count": null,
   "metadata": {},
   "outputs": [],
   "source": []
  }
 ],
 "metadata": {
  "kernelspec": {
   "display_name": "Python 3",
   "language": "python",
   "name": "python3"
  },
  "language_info": {
   "codemirror_mode": {
    "name": "ipython",
    "version": 3
   },
   "file_extension": ".py",
   "mimetype": "text/x-python",
   "name": "python",
   "nbconvert_exporter": "python",
   "pygments_lexer": "ipython3",
   "version": "3.7.3"
  }
 },
 "nbformat": 4,
 "nbformat_minor": 2
}
