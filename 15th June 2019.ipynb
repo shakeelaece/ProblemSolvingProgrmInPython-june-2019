{
 "cells": [
  {
   "cell_type": "code",
   "execution_count": 1,
   "metadata": {},
   "outputs": [
    {
     "name": "stdout",
     "output_type": "stream",
     "text": [
      " racecar\n",
      "YES\n"
     ]
    }
   ],
   "source": [
    "# You have been given a String S. You need to find and print whether this string is a palindrome or not. If yes, print \"YES\" (without quotes), else print \"NO\" (without quotes).\n",
    "\n",
    "def string(s):\n",
    "    if s==s[::-1]:\n",
    "        print(\"YES\")\n",
    "    else:\n",
    "        print(\"NO\")\n",
    "s=input(\" \")\n",
    "string(s)"
   ]
  },
  {
   "cell_type": "code",
   "execution_count": 4,
   "metadata": {},
   "outputs": [
    {
     "name": "stdout",
     "output_type": "stream",
     "text": [
      "1 10 1\n",
      "10\n"
     ]
    }
   ],
   "source": [
    "# You have been given 3 integers - l, r and k. Find how many numbers between l and r (both inclusive) are divisible by k. You do not need to print these numbers, you just have to find their count.\n",
    "\n",
    "def countDivisors(l, r, k):\n",
    "    count=0\n",
    "    for i in range(l, r+1):\n",
    "        if i%k==0:\n",
    "            count=count+1\n",
    "    print(count)\n",
    "    return\n",
    "\n",
    "s=input()\n",
    "s=s.split()\n",
    "l=int(s[0])\n",
    "r=int(s[1])\n",
    "k=int(s[2])\n",
    "countDivisors(l, r, k)"
   ]
  },
  {
   "cell_type": "code",
   "execution_count": 5,
   "metadata": {},
   "outputs": [
    {
     "name": "stdout",
     "output_type": "stream",
     "text": [
      "2\n",
      "2\n"
     ]
    }
   ],
   "source": [
    "#You have been given a positive integer N. You need to find and print the Factorial of this number. The Factorial of a positive integer N refers to the product of all number in the range from 1 to N. You can read more about the factorial of a number\n",
    "\n",
    "def factorial(n):\n",
    "    product=1\n",
    "    for i in range(1,n+1):\n",
    "        product=product*i\n",
    "    print (product)\n",
    "    return\n",
    "n=int(input())\n",
    "factorial(n)"
   ]
  },
  {
   "cell_type": "code",
   "execution_count": 6,
   "metadata": {},
   "outputs": [
    {
     "name": "stdout",
     "output_type": "stream",
     "text": [
      "abCDE\n",
      "ABcde"
     ]
    }
   ],
   "source": [
    "# You have been given a String S consisting of uppercase and lowercase English alphabets. You need to change the case of each alphabet in this String. That is, all the uppercase letters should be converted to lowercase and all the lowercase letters should be converted to uppercase. You need to then print the resultant String to output.\n",
    "\n",
    "def toggleString(n):\n",
    "    for i in n:\n",
    "        if(i==i.upper()):\n",
    "            s=i.lower()\n",
    "        elif(i==i.lower()):\n",
    "            s=i.upper()\n",
    "        print(s,end=\"\")\n",
    "    return\n",
    "n=input(\"\")\n",
    "toggleString(n)"
   ]
  },
  {
   "cell_type": "code",
   "execution_count": null,
   "metadata": {},
   "outputs": [],
   "source": [
    "# Given two strings of equal length, you have to tell whether they both strings are identical.\n",
    "#Two strings S1 and S2 are said to be identical, if any of the permutation of string S1 is equal to the string S2.\n",
    "\n",
    "def twoStrings(s1,s2):\n",
    "    s1=sorted(s1)\n",
    "    s2=sorted(s2)\n",
    "    if (s1==s2):\n",
    "        print(\"YES\")\n",
    "    else:\n",
    "        print(\"NO\")\n",
    "\n",
    "s=input()\n",
    "for i in s:\n",
    "    s1=input()\n",
    "    l=s1.split()\n",
    "twoStrings(l[0],l[1])\n"
   ]
  },
  {
   "cell_type": "code",
   "execution_count": 1,
   "metadata": {},
   "outputs": [
    {
     "name": "stdout",
     "output_type": "stream",
     "text": [
      "2\n",
      "1 44 2 14\n",
      "0 30\n",
      "2 42 8 23\n",
      "5 41\n"
     ]
    }
   ],
   "source": [
    "# Rahul is a very busy persion he dont wan't to waste his time . He keeps account of duration of each and every work. Now he don't even get time to calculate duration of works, So your job is to count the durations for each work and give it to rahul.\n",
    "\n",
    "def minuteDifference(s):\n",
    "    s=s.split()\n",
    "    sh=int(s[0])\n",
    "    sm=int(s[1])\n",
    "    eh=int(s[2])\n",
    "    em=int(s[3])\n",
    "    startminutes=(sh*60)+sm\n",
    "    endminutes=(eh*60)+em\n",
    "    return endminutes-startminutes\n",
    "def outputTimeFormat(minutes):\n",
    "    hh=minutes//60\n",
    "    mm=minutes%60\n",
    "    print(hh,mm)\n",
    "    return \n",
    "n=int(input())\n",
    "for i in range(0,n):\n",
    "    s=input()\n",
    "    minutes=minuteDifference(s)\n",
    "    outputTimeFormat(minutes)"
   ]
  },
  {
   "cell_type": "code",
   "execution_count": 2,
   "metadata": {},
   "outputs": [
    {
     "name": "stdout",
     "output_type": "stream",
     "text": [
      "aba\n",
      "4\n"
     ]
    }
   ],
   "source": [
    "# Print the sum of the characters in a given string\n",
    "        # Ex: abc --> 1+2+1=4\n",
    "    \n",
    "s = input()\n",
    "s= list(s)\n",
    "sum =0\n",
    "for i in s:\n",
    "    sum +=ord(i)-(ord('a')-1)\n",
    "print(sum)"
   ]
  },
  {
   "cell_type": "code",
   "execution_count": null,
   "metadata": {},
   "outputs": [],
   "source": []
  }
 ],
 "metadata": {
  "kernelspec": {
   "display_name": "Python 3",
   "language": "python",
   "name": "python3"
  },
  "language_info": {
   "codemirror_mode": {
    "name": "ipython",
    "version": 3
   },
   "file_extension": ".py",
   "mimetype": "text/x-python",
   "name": "python",
   "nbconvert_exporter": "python",
   "pygments_lexer": "ipython3",
   "version": "3.7.3"
  }
 },
 "nbformat": 4,
 "nbformat_minor": 2
}
