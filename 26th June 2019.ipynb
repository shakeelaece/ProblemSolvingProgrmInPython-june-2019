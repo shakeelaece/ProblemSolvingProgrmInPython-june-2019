{
 "cells": [
  {
   "cell_type": "code",
   "execution_count": 73,
   "metadata": {},
   "outputs": [
    {
     "name": "stdout",
     "output_type": "stream",
     "text": [
      "8\n"
     ]
    }
   ],
   "source": [
    "# Function to find the Largest number in a list\n",
    "\n",
    "def largestNumber(li):\n",
    "    s=max(li)\n",
    "    print(s)\n",
    "largestNumber([1, 5, 8, 7, 3])"
   ]
  },
  {
   "cell_type": "code",
   "execution_count": 6,
   "metadata": {},
   "outputs": [
    {
     "name": "stdout",
     "output_type": "stream",
     "text": [
      "1 1 3 5 7 8 8\n"
     ]
    },
    {
     "data": {
      "text/plain": [
       "'7'"
      ]
     },
     "execution_count": 6,
     "metadata": {},
     "output_type": "execute_result"
    }
   ],
   "source": [
    "# Function to find the second largest number in a list\n",
    "\n",
    "def secondLargest(li):\n",
    "    # Convert the list into a unique list\n",
    "    unique = []\n",
    "    for n in li:\n",
    "        if n not in unique:\n",
    "            unique.append(n)\n",
    "    unique=sorted(unique,reverse=True)\n",
    "    if (len(unique)>1):\n",
    "        return unique[1]\n",
    "    else:\n",
    "        return -1\n",
    "li=input()\n",
    "secondLargest(li)\n"
   ]
  },
  {
   "cell_type": "code",
   "execution_count": 25,
   "metadata": {},
   "outputs": [
    {
     "name": "stdout",
     "output_type": "stream",
     "text": [
      "[1, 2, 3, 5, 7, 8]\n"
     ]
    },
    {
     "data": {
      "text/plain": [
       "7"
      ]
     },
     "execution_count": 25,
     "metadata": {},
     "output_type": "execute_result"
    }
   ],
   "source": [
    "# Function to find the Fifth Least(small) number in a list\n",
    "\n",
    "def fifthLeast(li):\n",
    "    unique=[]\n",
    "    for i in li:\n",
    "        if i not in unique:\n",
    "            unique.append(i)\n",
    "    # unique=list(filter(None,unique))   # filter is used for removing an empty string in a list\n",
    "    print(unique)\n",
    "    unique=sorted(unique)\n",
    "    if len(unique)>1:\n",
    "        return unique[4]\n",
    "    else:\n",
    "        return -1\n",
    "#li=input()\n",
    "fifthLeast([1, 1, 2, 3, 3, 5, 7, 8])\n",
    "#fifthLeast(li)"
   ]
  },
  {
   "cell_type": "code",
   "execution_count": 18,
   "metadata": {},
   "outputs": [
    {
     "data": {
      "text/plain": [
       "9"
      ]
     },
     "execution_count": 18,
     "metadata": {},
     "output_type": "execute_result"
    }
   ],
   "source": [
    "# Find the Kth smallest value in the list\n",
    "\n",
    "def kSmallest(li,k):\n",
    "    unique=[]\n",
    "    for i in li:\n",
    "        if i not in unique:\n",
    "            unique.append(i)\n",
    "    # Sort the unique list in descending order\n",
    "    unique=sorted(unique)\n",
    "    # Check if length of unique list is greater\n",
    "    if len(unique)>=k:\n",
    "        return unique[k-1]\n",
    "    return -1\n",
    "#li=input()\n",
    "#k=int(input())\n",
    "kSmallest([3, 3, 9],2)\n",
    "#kSmaleest(li,k)\n",
    "    "
   ]
  },
  {
   "cell_type": "code",
   "execution_count": 20,
   "metadata": {},
   "outputs": [
    {
     "data": {
      "text/plain": [
       "1"
      ]
     },
     "execution_count": 20,
     "metadata": {},
     "output_type": "execute_result"
    }
   ],
   "source": [
    "# Function to identify the Element with highest frequency\n",
    "# If many elements have the highest frequency then return the smallest element\n",
    "# Ex: [1, 2, 3, 9, 8, 7, 3, 4, 2, 1] --> 1\n",
    "\n",
    "def highestFrequency1(li):\n",
    "    unique={}\n",
    "    for n in li:\n",
    "        if n not in unique:\n",
    "            unique[n]=1\n",
    "        else:\n",
    "            unique[n]+=1\n",
    "    # Getting all the frequencies into a list\n",
    "    freq=unique.values()\n",
    "    maxfreq=max(freq)\n",
    "    maxfreqE=[]\n",
    "    # Identifying the smallest number with maximum frequency\n",
    "    for item in unique.items():\n",
    "        if item[1]==maxfreq:\n",
    "            maxfreqE.append(item[0])\n",
    "    return min(maxfreqE)    # If we want maximum value then return max(maxFreqE)\n",
    "highestFrequency1([1, 2, 3, 9, 8, 7, 3, 4, 2, 1])"
   ]
  },
  {
   "cell_type": "code",
   "execution_count": 22,
   "metadata": {},
   "outputs": [
    {
     "name": "stdout",
     "output_type": "stream",
     "text": [
      "{1: 2, 2: 2, 3: 2, 9: 1, 8: 1, 7: 1, 4: 1}\n",
      "2\n",
      "[1, 2, 3]\n"
     ]
    },
    {
     "data": {
      "text/plain": [
       "3"
      ]
     },
     "execution_count": 22,
     "metadata": {},
     "output_type": "execute_result"
    }
   ],
   "source": [
    "# Function to identify the Element with highest frequency\n",
    "# If many elements have the highest frequency then return the highest element\n",
    "# Ex: [1, 2, 3, 9, 8, 7, 3, 4, 2, 1] --> 3\n",
    "\n",
    "def highestFrequency2(li):\n",
    "    unique={}\n",
    "    for n in li:\n",
    "        if n not in unique:\n",
    "            unique[n]=1\n",
    "        else:\n",
    "            unique[n]+=1\n",
    "    print(unique)\n",
    "    maxfreq=max(unique.values())\n",
    "    print(maxfreq)\n",
    "    # Extract all keys with maxfreq in a list\n",
    "    maxfreqkeys=[]\n",
    "    for item in unique.items():\n",
    "        # item --> (key,value)\n",
    "        if item[1]==maxfreq:\n",
    "            maxfreqkeys.append(item[0])\n",
    "    print(maxfreqkeys)\n",
    "    return max(maxfreqkeys)\n",
    "highestFrequency2([1, 2, 3, 9, 8, 7, 3, 4, 2, 1])"
   ]
  },
  {
   "cell_type": "code",
   "execution_count": 16,
   "metadata": {},
   "outputs": [
    {
     "name": "stdout",
     "output_type": "stream",
     "text": [
      "{1: 2, 2: 2, 3: 1, 4: 2, 9: 1}\n",
      "dict_values([2, 2, 1, 2, 1])\n",
      "2\n",
      "[9, 3]\n"
     ]
    },
    {
     "data": {
      "text/plain": [
       "3"
      ]
     },
     "execution_count": 16,
     "metadata": {},
     "output_type": "execute_result"
    }
   ],
   "source": [
    "# Function to identify second highest frequency in the given list\n",
    "# If there are many such elements, return the smallest\n",
    "# Ex: [1,2,3,2,1,4,4,9] --> 3\n",
    "\n",
    "def secondhighestFreq(li):\n",
    "    unique={}\n",
    "    for n in li:\n",
    "        if  n not in unique:\n",
    "            unique[n]=1\n",
    "        else:\n",
    "            unique[n]+=1\n",
    "    print(unique)  # Printing the unique dictionary\n",
    "    freq=unique.values()\n",
    "    print(freq)    # Printing the only values in the unique dictionary\n",
    "    maxfreq=max(freq)\n",
    "    print(maxfreq) # Printing the maximum frequency values \n",
    "    maxfreqE=[]\n",
    "    # Identifing the smallest number with maximum \n",
    "    for item in unique.items():\n",
    "        if item[1]!=maxfreq:\n",
    "            maxfreqE.append(item[0])\n",
    "    # Select the minimum from the keys\n",
    "    maxfreqE=sorted(maxfreqE,reverse=True) # minfreqE[k-1]\n",
    "    print(maxfreqE)   # Printing keys which have maximum frequency\n",
    "    return maxfreqE[1]\n",
    "\n",
    "secondhighestFreq([1,2,3,2,1,4,4,9])       "
   ]
  },
  {
   "cell_type": "code",
   "execution_count": 2,
   "metadata": {},
   "outputs": [
    {
     "name": "stdout",
     "output_type": "stream",
     "text": [
      "{9: 2, 8: 1, 7: 5, 6: 4, 5: 1, 2: 1, 3: 1, 4: 1}\n",
      "dict_values([2, 1, 5, 4, 1, 1, 1, 1])\n",
      "[2, 1, 5, 4]\n",
      "[8, 5, 4, 3, 2]\n"
     ]
    },
    {
     "data": {
      "text/plain": [
       "2"
      ]
     },
     "execution_count": 2,
     "metadata": {},
     "output_type": "execute_result"
    }
   ],
   "source": [
    "# Function to identify Kth highest frequency in the given list\n",
    "# If there are many such elements, return the smallest\n",
    "# Ex: [9,8,7,6,5,2,3,4,9,6,7,7,7,6,7,6],k=4 --> 2\n",
    "\n",
    "def khighestFreq(li,k):\n",
    "    unique={}\n",
    "    for n in li:\n",
    "        if  n not in unique:\n",
    "            unique[n]=1\n",
    "        else:\n",
    "            unique[n]+=1\n",
    "    print(unique)\n",
    "    freq=unique.values()\n",
    "    print(freq)\n",
    "    x=[]\n",
    "    for i in freq:\n",
    "        if i not in x:\n",
    "            x.append(i)\n",
    "    print(x)\n",
    "    x=sorted(x,reverse=True)\n",
    "    kfreq=x[k-1]\n",
    "    kfreqchar=[]\n",
    "    for item in unique.items():\n",
    "        if item[1]==kfreq:\n",
    "            kfreqchar.append(item[0])\n",
    "    kfreqchar=sorted(kfreqchar,reverse=True) \n",
    "    print(kfreqchar)\n",
    "    return min(kfreqchar)    \n",
    "#khighestFreq([1,2,3,4,5,1,2,3,4,6,7,8,6,1],3)\n",
    "    \n",
    "khighestFreq([9,8,7,6,5,2,3,4,9,6,7,7,7,6,7,6],4)"
   ]
  },
  {
   "cell_type": "code",
   "execution_count": null,
   "metadata": {},
   "outputs": [],
   "source": []
  },
  {
   "cell_type": "code",
   "execution_count": null,
   "metadata": {},
   "outputs": [],
   "source": []
  }
 ],
 "metadata": {
  "kernelspec": {
   "display_name": "Python 3",
   "language": "python",
   "name": "python3"
  },
  "language_info": {
   "codemirror_mode": {
    "name": "ipython",
    "version": 3
   },
   "file_extension": ".py",
   "mimetype": "text/x-python",
   "name": "python",
   "nbconvert_exporter": "python",
   "pygments_lexer": "ipython3",
   "version": "3.7.3"
  }
 },
 "nbformat": 4,
 "nbformat_minor": 2
}
