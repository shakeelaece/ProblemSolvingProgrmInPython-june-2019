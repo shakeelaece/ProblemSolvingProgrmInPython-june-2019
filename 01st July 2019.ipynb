{
 "cells": [
  {
   "cell_type": "markdown",
   "metadata": {},
   "source": [
    "## Day Objectives\n",
    "### Practice on Income Dataset\n",
    "- Define functions for the following data points\n",
    "        -Average Income of all states from 2005 to 2013\n",
    "        -State with highest average income in the last three years\n",
    "        -State with lowest average income from 2007 to 2010(inclusive)\n",
    "        -Print the list of all states in the same line with average income less than California\n",
    "        -Print the names of states based on descending order of income in the year 2009\n",
    "        -State with the lowest recorded income from 2005 to 2013\n"
   ]
  },
  {
   "cell_type": "code",
   "execution_count": 1,
   "metadata": {},
   "outputs": [
    {
     "data": {
      "text/html": [
       "<div>\n",
       "<style scoped>\n",
       "    .dataframe tbody tr th:only-of-type {\n",
       "        vertical-align: middle;\n",
       "    }\n",
       "\n",
       "    .dataframe tbody tr th {\n",
       "        vertical-align: top;\n",
       "    }\n",
       "\n",
       "    .dataframe thead th {\n",
       "        text-align: right;\n",
       "    }\n",
       "</style>\n",
       "<table border=\"1\" class=\"dataframe\">\n",
       "  <thead>\n",
       "    <tr style=\"text-align: right;\">\n",
       "      <th></th>\n",
       "      <th>GEOID</th>\n",
       "      <th>State</th>\n",
       "      <th>2005</th>\n",
       "      <th>2006</th>\n",
       "      <th>2007</th>\n",
       "      <th>2008</th>\n",
       "      <th>2009</th>\n",
       "      <th>2010</th>\n",
       "      <th>2011</th>\n",
       "      <th>2012</th>\n",
       "      <th>2013</th>\n",
       "    </tr>\n",
       "  </thead>\n",
       "  <tbody>\n",
       "    <tr>\n",
       "      <th>0</th>\n",
       "      <td>04000US01</td>\n",
       "      <td>Alabama</td>\n",
       "      <td>37150</td>\n",
       "      <td>37952</td>\n",
       "      <td>42212</td>\n",
       "      <td>44476</td>\n",
       "      <td>39980</td>\n",
       "      <td>40933</td>\n",
       "      <td>42590</td>\n",
       "      <td>43464</td>\n",
       "      <td>41381</td>\n",
       "    </tr>\n",
       "    <tr>\n",
       "      <th>1</th>\n",
       "      <td>04000US02</td>\n",
       "      <td>Alaska</td>\n",
       "      <td>55891</td>\n",
       "      <td>56418</td>\n",
       "      <td>62993</td>\n",
       "      <td>63989</td>\n",
       "      <td>61604</td>\n",
       "      <td>57848</td>\n",
       "      <td>57431</td>\n",
       "      <td>63648</td>\n",
       "      <td>61137</td>\n",
       "    </tr>\n",
       "    <tr>\n",
       "      <th>2</th>\n",
       "      <td>04000US04</td>\n",
       "      <td>Arizona</td>\n",
       "      <td>45245</td>\n",
       "      <td>46657</td>\n",
       "      <td>62993</td>\n",
       "      <td>46914</td>\n",
       "      <td>45739</td>\n",
       "      <td>46896</td>\n",
       "      <td>48621</td>\n",
       "      <td>47044</td>\n",
       "      <td>50602</td>\n",
       "    </tr>\n",
       "    <tr>\n",
       "      <th>3</th>\n",
       "      <td>04000US05</td>\n",
       "      <td>Arkansas</td>\n",
       "      <td>36658</td>\n",
       "      <td>37057</td>\n",
       "      <td>40795</td>\n",
       "      <td>39586</td>\n",
       "      <td>36538</td>\n",
       "      <td>38587</td>\n",
       "      <td>41302</td>\n",
       "      <td>39018</td>\n",
       "      <td>39919</td>\n",
       "    </tr>\n",
       "    <tr>\n",
       "      <th>4</th>\n",
       "      <td>04000US06</td>\n",
       "      <td>California</td>\n",
       "      <td>51755</td>\n",
       "      <td>55319</td>\n",
       "      <td>55734</td>\n",
       "      <td>57014</td>\n",
       "      <td>56134</td>\n",
       "      <td>54283</td>\n",
       "      <td>53367</td>\n",
       "      <td>57020</td>\n",
       "      <td>57528</td>\n",
       "    </tr>\n",
       "  </tbody>\n",
       "</table>\n",
       "</div>"
      ],
      "text/plain": [
       "       GEOID       State   2005   2006   2007   2008   2009   2010   2011  \\\n",
       "0  04000US01     Alabama  37150  37952  42212  44476  39980  40933  42590   \n",
       "1  04000US02      Alaska  55891  56418  62993  63989  61604  57848  57431   \n",
       "2  04000US04     Arizona  45245  46657  62993  46914  45739  46896  48621   \n",
       "3  04000US05    Arkansas  36658  37057  40795  39586  36538  38587  41302   \n",
       "4  04000US06  California  51755  55319  55734  57014  56134  54283  53367   \n",
       "\n",
       "    2012   2013  \n",
       "0  43464  41381  \n",
       "1  63648  61137  \n",
       "2  47044  50602  \n",
       "3  39018  39919  \n",
       "4  57020  57528  "
      ]
     },
     "execution_count": 1,
     "metadata": {},
     "output_type": "execute_result"
    }
   ],
   "source": [
    "# Function to read CSV data into a DataFrame and returns the DataFrame object\n",
    "\n",
    "filepath='DataFiles/income.csv'\n",
    "import pandas as pd\n",
    "def readCSVdata(filepath):\n",
    "    return pd.read_csv(filepath)  # it returns the data inside the object\n",
    "readCSVdata(filepath)"
   ]
  },
  {
   "cell_type": "code",
   "execution_count": 2,
   "metadata": {},
   "outputs": [
    {
     "name": "stdout",
     "output_type": "stream",
     "text": [
      "2005\n",
      "2\n",
      "2013\n",
      "10\n",
      "[37150 37952 42212 44476 39980 40933 42590 43464 41381]\n",
      "41126.444444444445\n",
      "[55891 56418 62993 63989 61604 57848 57431 63648 61137]\n",
      "60106.555555555555\n",
      "[45245 46657 62993 46914 45739 46896 48621 47044 50602]\n",
      "48967.88888888889\n",
      "[36658 37057 40795 39586 36538 38587 41302 39018 39919]\n",
      "38828.88888888889\n",
      "[51755 55319 55734 57014 56134 54283 53367 57020 57528]\n",
      "55350.444444444445\n",
      "48876.04444444444\n"
     ]
    }
   ],
   "source": [
    "incomedf=readCSVdata(filepath)\n",
    "# Function to print all column names in a single line\n",
    "\n",
    "def printDataFrameColumns(df):\n",
    "    columns=df.columns\n",
    "    for column in columns:\n",
    "        print(column,end=' ')\n",
    "    return\n",
    "#printDataFrameColumns(incomedf)\n",
    "\n",
    "def avgIncomeOfStates(df):\n",
    "    for column in range(len(df.columns)):\n",
    "        if df.columns[column]==\"2005\":\n",
    "            print(df.columns[column])\n",
    "            startyearindex=column\n",
    "            print(startyearindex)\n",
    "        elif df.columns[column]==\"2013\":\n",
    "            print(df.columns[column])\n",
    "            endyearindex=column\n",
    "            print(endyearindex)\n",
    "    li=[]\n",
    "    for value in df.values:\n",
    "        print(value[startyearindex:endyearindex+1])\n",
    "        avg=sum(value[startyearindex:endyearindex+1])/len(value[startyearindex:endyearindex+1])\n",
    "        print(avg)\n",
    "        li.append(avg)\n",
    "    print(sum(li)/len(li))\n",
    "avgIncomeOfStates(incomedf)"
   ]
  },
  {
   "cell_type": "code",
   "execution_count": 3,
   "metadata": {},
   "outputs": [
    {
     "data": {
      "text/plain": [
       "55891"
      ]
     },
     "execution_count": 3,
     "metadata": {},
     "output_type": "execute_result"
    }
   ],
   "source": [
    "incomedf.values[1,2]"
   ]
  },
  {
   "cell_type": "code",
   "execution_count": 4,
   "metadata": {},
   "outputs": [
    {
     "name": "stdout",
     "output_type": "stream",
     "text": [
      "2011\n",
      "8\n",
      "2013\n",
      "10\n",
      "[42590 43464 41381]\n",
      "42478.333333333336\n",
      "[57431 63648 61137]\n",
      "60738.666666666664\n",
      "[48621 47044 50602]\n",
      "48755.666666666664\n",
      "[41302 39018 39919]\n",
      "40079.666666666664\n",
      "[53367 57020 57528]\n",
      "55971.666666666664\n",
      "60738.666666666664\n"
     ]
    }
   ],
   "source": [
    "# State with highest average income in the last three years\n",
    "\n",
    "def highestIncomeOfLast3Years(df):\n",
    "    for column in range(len(df.columns)):\n",
    "        if df.columns[column]==\"2011\":\n",
    "            print(df.columns[column])\n",
    "            startyearindex=column\n",
    "            print(startyearindex)\n",
    "        elif df.columns[column]==\"2013\":\n",
    "            print(df.columns[column])\n",
    "            endyearindex=column\n",
    "            print(endyearindex)\n",
    "    li=[]\n",
    "    for value in df.values:\n",
    "        print(value[startyearindex:endyearindex+1])\n",
    "        avg=sum(value[startyearindex:endyearindex+1])/len(value[startyearindex:endyearindex+1])\n",
    "        print(avg)\n",
    "        li.append(avg)\n",
    "    print(max(li))\n",
    "highestIncomeOfLast3Years(incomedf)"
   ]
  },
  {
   "cell_type": "code",
   "execution_count": 5,
   "metadata": {},
   "outputs": [
    {
     "name": "stdout",
     "output_type": "stream",
     "text": [
      "2007\n",
      "4\n",
      "2010\n",
      "7\n",
      "[42212 44476 39980 40933]\n",
      "41900.25\n",
      "[62993 63989 61604 57848]\n",
      "61608.5\n",
      "[62993 46914 45739 46896]\n",
      "50635.5\n",
      "[40795 39586 36538 38587]\n",
      "38876.5\n",
      "[55734 57014 56134 54283]\n",
      "55791.25\n",
      "38876.5\n"
     ]
    }
   ],
   "source": [
    "# State with lowest average income from 2007 to 2010(inclusive)\n",
    "\n",
    "def lowestIncomeOfState(df):\n",
    "    for column in range(len(df.columns)):\n",
    "        if df.columns[column]==\"2007\":\n",
    "            print(df.columns[column])\n",
    "            startyearindex=column\n",
    "            print(startyearindex)\n",
    "        elif df.columns[column]==\"2010\":\n",
    "            print(df.columns[column])\n",
    "            endyearindex=column\n",
    "            print(endyearindex)\n",
    "    li=[]\n",
    "    for value in df.values:\n",
    "        print(value[startyearindex:endyearindex+1])\n",
    "        avg=sum(value[startyearindex:endyearindex+1])/len(value[startyearindex:endyearindex+1])\n",
    "        print(avg)\n",
    "        li.append(avg)\n",
    "    print(min(li))\n",
    "lowestIncomeOfState(incomedf)"
   ]
  },
  {
   "cell_type": "code",
   "execution_count": null,
   "metadata": {},
   "outputs": [],
   "source": []
  },
  {
   "cell_type": "code",
   "execution_count": null,
   "metadata": {},
   "outputs": [],
   "source": []
  },
  {
   "cell_type": "code",
   "execution_count": null,
   "metadata": {},
   "outputs": [],
   "source": []
  },
  {
   "cell_type": "code",
   "execution_count": null,
   "metadata": {},
   "outputs": [],
   "source": []
  }
 ],
 "metadata": {
  "kernelspec": {
   "display_name": "Python 3",
   "language": "python",
   "name": "python3"
  },
  "language_info": {
   "codemirror_mode": {
    "name": "ipython",
    "version": 3
   },
   "file_extension": ".py",
   "mimetype": "text/x-python",
   "name": "python",
   "nbconvert_exporter": "python",
   "pygments_lexer": "ipython3",
   "version": "3.7.3"
  }
 },
 "nbformat": 4,
 "nbformat_minor": 2
}
