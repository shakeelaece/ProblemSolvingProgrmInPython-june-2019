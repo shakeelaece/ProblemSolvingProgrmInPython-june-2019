{
 "cells": [
  {
   "cell_type": "code",
   "execution_count": 5,
   "metadata": {},
   "outputs": [
    {
     "data": {
      "text/plain": [
       "3"
      ]
     },
     "execution_count": 5,
     "metadata": {},
     "output_type": "execute_result"
    }
   ],
   "source": [
    "# Function to get Unique elements in a list\n",
    "    # Ex: [1,2,3,3,2,1] --> [1,2,3]\n",
    "    \n",
    "def uniqueData(li):\n",
    "    unique=[]  # Create an empty unique list\n",
    "    # For every element in the main list,\n",
    "        # check if it exists in the unique list\n",
    "        # If it does not exist,add it to unique list\n",
    "        # else if it aleady exists,move on to the next element\n",
    "    for element in li:\n",
    "        if element not in unique:\n",
    "            unique.append(element)\n",
    "    return len(unique)\n",
    "\n",
    "li=[1,2,3,3,2,1]\n",
    "uniqueData(li)\n"
   ]
  },
  {
   "cell_type": "code",
   "execution_count": 3,
   "metadata": {},
   "outputs": [
    {
     "name": "stdout",
     "output_type": "stream",
     "text": [
      "{'Hello.': 2, 'My': 2, 'name': 2, 'is': 2, '1234.': 1, 'Hii': 1, '546.': 1, 'what?': 1, 'a': 6}\n"
     ]
    }
   ],
   "source": [
    "# Function to print the frequency count of all words in a file\n",
    "# Frequency count means print the count of each word how many times it is repeated\n",
    "# This concept is called \"Frequency Distribution\"\n",
    "\n",
    "\n",
    "def frequency(filePath):\n",
    "    # Dictionary to be used\n",
    "        # Keys --> unique words\n",
    "        # Values --> count of unique words\n",
    "     with open(filePath,'r') as f:\n",
    "        filePath=f.read().split()\n",
    "        count = {}\n",
    "        for word in filePath :\n",
    "            if word in count :\n",
    "                count[word] += 1\n",
    "            else:\n",
    "                count[word] = 1\n",
    "        print(count)\n",
    "\n",
    "filePath='DataFiles/data.txt'\n",
    "frequency(filePath)"
   ]
  },
  {
   "cell_type": "code",
   "execution_count": null,
   "metadata": {},
   "outputs": [],
   "source": [
    "# Frequency Distribution using Two lists\n",
    "    # AllWords list -\n",
    "    # UniqueWords list -\n",
    "import re    \n",
    "def wordsFromFile(filepath):\n",
    "    pattern='[ /n]'     # here after /n we put any special charecter, that spec char should be deleted\n",
    "    with open(filepath,'r') as f:\n",
    "        filedata=f.read()\n",
    "        allWordsList=re.split(pattern,filedata)\n",
    "    return(allWordsList)\n",
    "filepath='DataFiles/data.txt'\n",
    "#wordsFromFile(filepath)    \n",
    "\n",
    "def FreqDistribute(filepath):\n",
    "    allWords=wordsFromFile(filepath)\n",
    "    uniquewords=uniqueData(filepath)\n",
    "    for word in uniquewords:\n",
    "        count=allWords.count(word)\n",
    "        print(word,\":\",count)\n",
    "    return\n",
    "FreqDistribute(filepath)"
   ]
  },
  {
   "cell_type": "code",
   "execution_count": 4,
   "metadata": {},
   "outputs": [
    {
     "name": "stdout",
     "output_type": "stream",
     "text": [
      "['Hello.', 'My', 'name', 'is', '1234.', 'Hello.', 'Hii', 'My', 'name', 'is', '546.', 'what?', 'a', 'a', 'a', 'a', 'a', 'a']\n"
     ]
    },
    {
     "data": {
      "text/plain": [
       "9"
      ]
     },
     "execution_count": 4,
     "metadata": {},
     "output_type": "execute_result"
    }
   ],
   "source": [
    "# unique word count\n",
    "def uniquewordcount(file):\n",
    "    with open(file,'r') as f:\n",
    "        s=f.read().split()\n",
    "        print(s)\n",
    "        y=set(s)\n",
    "    return len(y)\n",
    "file= 'DataFiles/data.txt'      \n",
    "uniquewordcount(file)"
   ]
  },
  {
   "cell_type": "code",
   "execution_count": null,
   "metadata": {},
   "outputs": [],
   "source": []
  }
 ],
 "metadata": {
  "kernelspec": {
   "display_name": "Python 3",
   "language": "python",
   "name": "python3"
  },
  "language_info": {
   "codemirror_mode": {
    "name": "ipython",
    "version": 3
   },
   "file_extension": ".py",
   "mimetype": "text/x-python",
   "name": "python",
   "nbconvert_exporter": "python",
   "pygments_lexer": "ipython3",
   "version": "3.7.3"
  }
 },
 "nbformat": 4,
 "nbformat_minor": 2
}
