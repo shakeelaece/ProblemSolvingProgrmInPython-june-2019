{
 "cells": [
  {
   "cell_type": "code",
   "execution_count": null,
   "metadata": {},
   "outputs": [],
   "source": [
    "# Contacts Application\n",
    "    # Add, Search, List, Modify, Delete Contacts\n",
    "    \n",
    "\n",
    "# Find and replace Application\n",
    "    # Count the total no.of occurances of a word\n",
    "    # If word is existing(boolen function:yes or no)\n",
    "    # Replace all occurances of a word with another word\n",
    "    \n",
    "\n",
    "# Marks Analysis Application\n",
    "    # Generate marks file for n students\n",
    "    # Iunput: Marks text file - each line contains marks of one student\n",
    "    # Generates a report with the following information\n",
    "        # Class Average\n",
    "        # Percentage of passed students\n",
    "        # Percentage of failed students\n",
    "        # Percentage of students with distinction\n",
    "        # Highest Mark Frequency\n",
    "        # Lowest Mark Frequency"
   ]
  },
  {
   "cell_type": "code",
   "execution_count": 1,
   "metadata": {},
   "outputs": [
    {
     "name": "stdout",
     "output_type": "stream",
     "text": [
      "ClassAverage= 53.06\n",
      "PassedStudents= 70.0\n",
      "FailedStudents= 30.0\n",
      "DistinctionStudents= 33.0\n",
      "9\n",
      "\n",
      "\n"
     ]
    }
   ],
   "source": [
    "# Function to generate marks data for n students\n",
    "\n",
    "from random import randint\n",
    "def generateMarks(n, lb, ub):\n",
    "    with open('DataFiles/marks.txt','w') as f:\n",
    "        for i in range(0,n):\n",
    "            r=randint(lb, ub)\n",
    "            f.write(str(r)+'\\n')\n",
    "    return\n",
    "#generateMarks(100,0,100)\n",
    "\n",
    "# Total Strength for the exam\n",
    "def totalStrength(filename):\n",
    "    count=0\n",
    "    with open(filename,'r') as f:\n",
    "        filedata=f.readlines()\n",
    "        for line in filedata:\n",
    "            count+=1\n",
    "    return(count)\n",
    "filename='DataFiles/marks.txt'\n",
    "totalStrength(filename)\n",
    "        \n",
    "\n",
    "# Class Average\n",
    "def classAverage(filename):\n",
    "    s=0\n",
    "    count=0\n",
    "    with open(filename,'r') as f:\n",
    "        for i in f:\n",
    "            s=s+int(i)\n",
    "            count=count+1\n",
    "    print('ClassAverage=',s/count)\n",
    "filename='DataFiles/marks.txt'\n",
    "classAverage(filename)\n",
    "\n",
    "# Percentage of passed students\n",
    "def passedStudents(filename):\n",
    "    s1=0\n",
    "    t=totalStrength(filename)\n",
    "    with open(filename,'r') as f:\n",
    "        for i in f:\n",
    "            if int(i)>=40:\n",
    "                s1=s1+1\n",
    "        p=(s1/t)*100\n",
    "    print('PassedStudents=',p)\n",
    "passedStudents(filename)\n",
    "\n",
    "# Percentage of failed students\n",
    "def failedStudents(filename):\n",
    "    s2=0\n",
    "    t=totalStrength(filename)\n",
    "    with open(filename,'r') as f:\n",
    "        for i in f:\n",
    "            if int(i)<40:\n",
    "                s2=s2+1\n",
    "        fail=(s2/t)*100\n",
    "    print('FailedStudents=',fail)\n",
    "failedStudents(filename)\n",
    "\n",
    "# Percentage of students with distinction\n",
    "def distinctionStudents(filename):\n",
    "    s3=0\n",
    "    t=totalStrength(filename)\n",
    "    with open(filename,'r') as f:\n",
    "        for i in f:\n",
    "            if int(i)>=70:\n",
    "                s3=s3+1\n",
    "        d=(s3/t)*100\n",
    "    print('DistinctionStudents=',d)\n",
    "distinctionStudents(filename)\n",
    "\n",
    "# Highest Mark Frequency\n",
    "# Lowest Mark Frequency\n",
    "\n",
    "def maxMarksFrequency(filename):\n",
    "    with open(filename,'r') as f:\n",
    "        filedata=f.read()\n",
    "        #lis=[]\n",
    "        #for i in f:\n",
    "            #lis=f.append(i)\n",
    "        #ma=max(lis)\n",
    "        #mi=min(lis)\n",
    "        print(max(filedata))\n",
    "        #print(min(filedata))\n",
    "maxMarksFrequency(filename)\n",
    "\n",
    "def minMarksFrequency(filename):\n",
    "    with open(filename,'r') as f:\n",
    "        filedata=f.read()\n",
    "        print(min(filedata))\n",
    "minMarksFrequency(filename)"
   ]
  },
  {
   "cell_type": "code",
   "execution_count": 1,
   "metadata": {},
   "outputs": [
    {
     "name": "stdout",
     "output_type": "stream",
     "text": [
      "a\n",
      "TotalOccurances 6\n",
      "YES\n"
     ]
    }
   ],
   "source": [
    "# Find and replace Application\n",
    "    # Count the total no.of occurances of a word\n",
    "    # If word is existing(boolen function:yes or no)\n",
    "    # Replace all occurances of a word with another word\n",
    "    \n",
    "# Count the total no.of occurances of a word\n",
    "def totlaOccurances(filename):\n",
    "    count=0\n",
    "    with open(filename,'r') as f:\n",
    "        filedata=f.read().split()\n",
    "        for i in filedata:\n",
    "            if i==s:\n",
    "                count=count+1\n",
    "    print('TotalOccurances',count)\n",
    "filename='DataFiles/data.txt'\n",
    "s=input()\n",
    "totlaOccurances(filename)\n",
    "\n",
    "\n",
    "# If word is existing(boolen function:yes or no)\n",
    "def isExist(filename):\n",
    "    with open(filename,'r') as f:\n",
    "        filedata=f.read().split()\n",
    "        if s in filedata:\n",
    "            print(\"YES\")\n",
    "        else:\n",
    "            print(\"False\")\n",
    "isExist(filename)\n",
    "\n",
    "\n",
    "def replace(filename):\n",
    "    with open(filename,'w') as f:\n",
    "        filedata=f.read().split()\n",
    "        for s in f:\n",
    "            f.write(ss)\n",
    "        #if isExist(s):\n",
    "           # s=s.append(ss)\n",
    "#s=input()\n",
    "#ss=input()\n",
    "#replace(filename)"
   ]
  },
  {
   "cell_type": "code",
   "execution_count": 2,
   "metadata": {},
   "outputs": [
    {
     "name": "stdout",
     "output_type": "stream",
     "text": [
      "abccde\n",
      "aabcb\n"
     ]
    },
    {
     "data": {
      "text/plain": [
       "5"
      ]
     },
     "execution_count": 2,
     "metadata": {},
     "output_type": "execute_result"
    }
   ],
   "source": [
    "# Function to check if two strings are Anagrams or not\n",
    "    # Length of two strings shouldbe same\n",
    "    # Elements in both strings shouldbe same\n",
    "    # Ex: abc  cba --> True\n",
    "    # Ex: aabbcc  ccbbaaa --> False\n",
    "    \n",
    "    \n",
    "def checkAnagrams(s1,s2):\n",
    "    if len(s1) != len(s2):\n",
    "        return False\n",
    "    if sorted(s1) == sorted(s2):\n",
    "        return True\n",
    "    return False\n",
    "s1=input()\n",
    "s2=input()\n",
    "#checkAnagrams(s1,s2)\n",
    "\n",
    "def charDeletionsAnagrams(s1,s2):\n",
    "    uncommon=[]   # It is for not same characters in both lists\n",
    "    for i in s1:\n",
    "        if i not in s2:\n",
    "            uncommon.append(i)\n",
    "    for i in s2:\n",
    "        if i not in s1:\n",
    "            uncommon.append(i)\n",
    "    count=len(uncommon)\n",
    "    freqs1={}    # Frequency of common characters in s1\n",
    "    freqs2={}    # Frequency of common characters in s2\n",
    "    uniqs1=[]    # Unique characters in s1\n",
    "    uniqs2=[]    # Unique characters in s2\n",
    "    # Frequency of common(s1&s2) unique characters in s1\n",
    "    for i in s1:\n",
    "        if i not in uncommon and i not in uniqs1:\n",
    "            freqs1[i]=s1.count(i)\n",
    "            uniqs1.append(i)\n",
    "    # Frequency of common(s1&s2) unique characters in s2\n",
    "    for i in s2:\n",
    "        if i not in uncommon and i not in uniqs2:\n",
    "            freqs2[i]=s2.count(i)\n",
    "            uniqs2.append(i)\n",
    "    # Difference in frequencies for common characters of both string\n",
    "    for key in freqs1.keys():   #Hrere we take anyone frequency of both strings, bcoz both are same\n",
    "        count+=abs((freqs1[key])-(freqs2[key]))\n",
    "    return count\n",
    "charDeletionsAnagrams(s1,s2)"
   ]
  },
  {
   "cell_type": "code",
   "execution_count": null,
   "metadata": {},
   "outputs": [],
   "source": []
  },
  {
   "cell_type": "markdown",
   "metadata": {},
   "source": [
    "### Assignment"
   ]
  },
  {
   "cell_type": "code",
   "execution_count": 5,
   "metadata": {},
   "outputs": [
    {
     "data": {
      "text/plain": [
       "62228"
      ]
     },
     "execution_count": 5,
     "metadata": {},
     "output_type": "execute_result"
    }
   ],
   "source": [
    "# Write a program to print the floor of average value in range (inclusive range)\n",
    "    # Ex: 1  10 --> 5\n",
    "    \n",
    "def averageRange(lb,ub):\n",
    "    sum=0\n",
    "    for i in range(lb,ub+1):\n",
    "        sum+=i\n",
    "    count=ub-lb+1\n",
    "    return sum//count\n",
    "averageRange(1000,123456)"
   ]
  },
  {
   "cell_type": "code",
   "execution_count": 17,
   "metadata": {},
   "outputs": [
    {
     "name": "stdout",
     "output_type": "stream",
     "text": [
      "aabcd\n",
      "3\n"
     ]
    },
    {
     "data": {
      "text/plain": [
       "-1"
      ]
     },
     "execution_count": 17,
     "metadata": {},
     "output_type": "execute_result"
    }
   ],
   "source": [
    "# Given a string S made of lowercase alphabets. Find the character having the Kth largest frequency.\n",
    "# If two characters have same frequency then print the smallest charecter\n",
    "# If there is no smallest character in string then print -1\n",
    "\n",
    "def kLargesttFrequency(s,k):\n",
    "    # Constract the frequency for all unique characters\n",
    "    freq={}\n",
    "    for i in s:\n",
    "        if i not in freq.keys():\n",
    "            freq[i]=s.count(i)\n",
    "    # Extract unique frequency in descending order\n",
    "    values=sorted(freq.values(),reverse=True)\n",
    "    uniqueValues=list(set(values))\n",
    "    uniqueValues=sorted(uniqueValues,reverse=True)\n",
    "    # Identify Kth largest frequency\n",
    "    if k<=len(uniqueValues):\n",
    "        kvalue=uniqueValues[k-1]\n",
    "    else:\n",
    "        return -1\n",
    "    # Get all elements with Kth largest frequency\n",
    "    li=[]\n",
    "    for item in freq.items():\n",
    "        if item[1]==kvalue:\n",
    "            li.append(item[0])\n",
    "    # Minimum of Kth largest frequency\n",
    "    return min(li)\n",
    "s=input()\n",
    "k=int(input())\n",
    "kLargesttFrequency(s,k)"
   ]
  },
  {
   "cell_type": "code",
   "execution_count": null,
   "metadata": {},
   "outputs": [],
   "source": []
  }
 ],
 "metadata": {
  "kernelspec": {
   "display_name": "Python 3",
   "language": "python",
   "name": "python3"
  },
  "language_info": {
   "codemirror_mode": {
    "name": "ipython",
    "version": 3
   },
   "file_extension": ".py",
   "mimetype": "text/x-python",
   "name": "python",
   "nbconvert_exporter": "python",
   "pygments_lexer": "ipython3",
   "version": "3.7.3"
  }
 },
 "nbformat": 4,
 "nbformat_minor": 2
}
