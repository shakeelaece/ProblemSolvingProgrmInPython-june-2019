{
 "cells": [
  {
   "cell_type": "markdown",
   "metadata": {},
   "source": [
    "### Assignment"
   ]
  },
  {
   "cell_type": "code",
   "execution_count": 1,
   "metadata": {},
   "outputs": [
    {
     "name": "stdout",
     "output_type": "stream",
     "text": [
      "a11234de678\n",
      "0 2 1 1 1 0 1 1 1 0 "
     ]
    }
   ],
   "source": [
    "# Given a string s, consisting of alphabets and digits, find the frequency of each digit in the given string.\n",
    "# O/P: Print the 10 space-seperated integers in a single line denoting the frequency of each digit from 0 to 9\n",
    "# Explanation: counting the digits from 0 to 9 how many times its present\n",
    "# Ex: a112s4567hs --> 0 2 0 1 1 1 1 0 0\n",
    "\n",
    "\n",
    "def uniqueData(allnumbers):\n",
    "    unique=[]\n",
    "    for i in allnumbers:\n",
    "        if i not in unique:\n",
    "            unique.append(i)\n",
    "    return unique\n",
    "def digitFrequency1(s):\n",
    "    allnumbers=[]\n",
    "    for i in s:\n",
    "        if i.isdigit():\n",
    "            allnumbers.append(i)\n",
    "    unique=uniqueData(allnumbers)\n",
    "    for i in range(0,10):\n",
    "        if str(i) not in unique:\n",
    "            print(0,end=\" \")\n",
    "        else:\n",
    "            count=allnumbers.count(str(i))\n",
    "            print(count,end=\" \")\n",
    "s=input()                       \n",
    "digitFrequency1(s)    \n"
   ]
  },
  {
   "cell_type": "code",
   "execution_count": 8,
   "metadata": {},
   "outputs": [
    {
     "name": "stdout",
     "output_type": "stream",
     "text": [
      "123\n",
      "6\n"
     ]
    }
   ],
   "source": [
    "# Print the sum of digits in a given number\n",
    "\n",
    "n=int(input())\n",
    "s=0\n",
    "while(n>0):\n",
    "    dig=n%10\n",
    "    s=s+dig\n",
    "    n=n//10\n",
    "    \n",
    "    #i=i+1\n",
    "print (s)"
   ]
  },
  {
   "cell_type": "code",
   "execution_count": null,
   "metadata": {},
   "outputs": [],
   "source": []
  }
 ],
 "metadata": {
  "kernelspec": {
   "display_name": "Python 3",
   "language": "python",
   "name": "python3"
  },
  "language_info": {
   "codemirror_mode": {
    "name": "ipython",
    "version": 3
   },
   "file_extension": ".py",
   "mimetype": "text/x-python",
   "name": "python",
   "nbconvert_exporter": "python",
   "pygments_lexer": "ipython3",
   "version": "3.7.3"
  }
 },
 "nbformat": 4,
 "nbformat_minor": 2
}
