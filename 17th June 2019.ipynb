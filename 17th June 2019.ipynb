{
 "cells": [
  {
   "cell_type": "code",
   "execution_count": 2,
   "metadata": {},
   "outputs": [
    {
     "data": {
      "text/plain": [
       "False"
      ]
     },
     "execution_count": 2,
     "metadata": {},
     "output_type": "execute_result"
    }
   ],
   "source": [
    "s=(\"Abc\")\n",
    "\n",
    "s.isupper() # check the all characters in the string are upper case or not\n",
    "s.islower() # check the all characters in the string are upper case or not\n",
    "\n",
    "s.lower() # convert a character into lower case\n",
    "s.upper() # convert a character into upper case"
   ]
  },
  {
   "cell_type": "code",
   "execution_count": 7,
   "metadata": {},
   "outputs": [
    {
     "data": {
      "text/plain": [
       "'aBCde'"
      ]
     },
     "execution_count": 7,
     "metadata": {},
     "output_type": "execute_result"
    }
   ],
   "source": [
    "# Function to Toggle String characters\n",
    "        # Ex: AbcDE --> aBCde\n",
    "\n",
    "def toggleString(s):\n",
    "    s=list(s)\n",
    "    t=[]\n",
    "    for i in s:\n",
    "        if i.islower():\n",
    "            t.append(i.upper())\n",
    "        else:\n",
    "            t.append(i.lower())\n",
    "    return \"\".join(t)\n",
    "toggleString(\"AbcDE\")"
   ]
  },
  {
   "cell_type": "code",
   "execution_count": 9,
   "metadata": {},
   "outputs": [
    {
     "name": "stdout",
     "output_type": "stream",
     "text": [
      "0 30\n"
     ]
    }
   ],
   "source": [
    "# Duration Problem\n",
    "\n",
    "s=\"1 44 2 14\"\n",
    "def minuteDifference(s):\n",
    "    s=s.split()\n",
    "    sh=int(s[0])\n",
    "    sm=int(s[1])\n",
    "    eh=int(s[2])\n",
    "    em=int(s[3])\n",
    "    startminutes=(sh*60)+sm\n",
    "    endminutes=(eh*60)+em\n",
    "    return endminutes-startminutes\n",
    "def outputTimeFormat(minutes):\n",
    "    hh=minutes//60\n",
    "    mm=minutes%60\n",
    "    print(hh,mm)\n",
    "    return \n",
    "minutes=minuteDifference(s)\n",
    "outputTimeFormat(minutes)"
   ]
  },
  {
   "cell_type": "code",
   "execution_count": null,
   "metadata": {},
   "outputs": [],
   "source": [
    "\n"
   ]
  },
  {
   "cell_type": "markdown",
   "metadata": {},
   "source": [
    "### Assessment"
   ]
  },
  {
   "cell_type": "code",
   "execution_count": 2,
   "metadata": {},
   "outputs": [
    {
     "name": "stdout",
     "output_type": "stream",
     "text": [
      "Enter a stringabc@234\n",
      "no.of digists= 3\n",
      "no.of characters= 3\n"
     ]
    }
   ],
   "source": [
    "# Calculate the no.of digits and no.of characters in a given string\n",
    "        # Ex: acb$234 --> 3 3\n",
    "string=input(\"Enter a string\")\n",
    "count1=0\n",
    "count2=0\n",
    "for i in string:\n",
    "    if (i.isdigit()):\n",
    "        count1+=1\n",
    "    elif(i.isalpha()):\n",
    "        count2+=1\n",
    "print(\"no.of digists=\",count1)\n",
    "print(\"no.of characters=\",count2)"
   ]
  },
  {
   "cell_type": "code",
   "execution_count": 5,
   "metadata": {},
   "outputs": [
    {
     "name": "stdout",
     "output_type": "stream",
     "text": [
      "no.of digists= 3\n",
      "no.of characters= 3\n"
     ]
    }
   ],
   "source": [
    "# Function to Calculate the no.of digits and no.of characters in a given string\n",
    "\n",
    "def counting(s):\n",
    "    count1=0\n",
    "    count2=0\n",
    "    for i in s:\n",
    "        if (i.isdigit()):\n",
    "            count1+=1\n",
    "        elif(i.isalpha()):\n",
    "            count2+=1\n",
    "    print(\"no.of digists=\",count1)\n",
    "    print(\"no.of characters=\",count2)\n",
    "counting(\"hii$759\")"
   ]
  },
  {
   "cell_type": "code",
   "execution_count": 1,
   "metadata": {},
   "outputs": [
    {
     "name": "stdout",
     "output_type": "stream",
     "text": [
      "3\n",
      "28\n",
      "YES\n",
      "6\n",
      "YES\n",
      "3\n",
      "NO\n"
     ]
    }
   ],
   "source": [
    "# Funtion to check the given number is perfect or not\n",
    "\n",
    "def perfectNum(n):\n",
    "    s=0\n",
    "    for i in range(1,n):\n",
    "        if n%i==0:\n",
    "            s=s+i\n",
    "    if (s==n):\n",
    "        print(\"YES\")\n",
    "    else:\n",
    "        print(\"NO\")\n",
    "n=int(input())\n",
    "for i in range(1,n+1):\n",
    "    i=int(input())\n",
    "    perfectNum(i)"
   ]
  },
  {
   "cell_type": "code",
   "execution_count": 6,
   "metadata": {},
   "outputs": [
    {
     "data": {
      "text/plain": [
       "65"
      ]
     },
     "execution_count": 6,
     "metadata": {},
     "output_type": "execute_result"
    }
   ],
   "source": [
    "ord('A') "
   ]
  },
  {
   "cell_type": "code",
   "execution_count": 8,
   "metadata": {},
   "outputs": [
    {
     "name": "stdout",
     "output_type": "stream",
     "text": [
      "2\n"
     ]
    }
   ],
   "source": [
    "\n",
    "def prime(n):\n",
    "    count=0\n",
    "    for i in range(1,n+1):\n",
    "        if n%i==0:\n",
    "            count+=1\n",
    "    return\n",
    "def countPrime(n):\n",
    "    for j in range(1,n+1):\n",
    "        if n%j==0:\n",
    "            j==prime(i)\n",
    "            print(\"YES\")\n",
    "        else:\n",
    "            print(\"NO\")       \n",
    "n=int(input())\n",
    "prime(n)"
   ]
  },
  {
   "cell_type": "code",
   "execution_count": 8,
   "metadata": {},
   "outputs": [
    {
     "name": "stdout",
     "output_type": "stream",
     "text": [
      "5\n",
      "3\n"
     ]
    }
   ],
   "source": [
    "# Greatest Divisor of a given number\n",
    "def greatestDivisor(n):\n",
    "    rem=[]\n",
    "    max_r=0\n",
    "    b=0\n",
    "    for i in range(1,n):\n",
    "        r=n%i\n",
    "        rem.append(r)\n",
    "        if max_r<max(rem):\n",
    "            max_r=max(rem)\n",
    "            b=i\n",
    "    print(b)\n",
    "n=int(input())\n",
    "greatestDivisor(n)   "
   ]
  },
  {
   "cell_type": "code",
   "execution_count": null,
   "metadata": {},
   "outputs": [],
   "source": []
  },
  {
   "cell_type": "code",
   "execution_count": null,
   "metadata": {},
   "outputs": [],
   "source": []
  },
  {
   "cell_type": "code",
   "execution_count": null,
   "metadata": {},
   "outputs": [],
   "source": []
  }
 ],
 "metadata": {
  "kernelspec": {
   "display_name": "Python 3",
   "language": "python",
   "name": "python3"
  },
  "language_info": {
   "codemirror_mode": {
    "name": "ipython",
    "version": 3
   },
   "file_extension": ".py",
   "mimetype": "text/x-python",
   "name": "python",
   "nbconvert_exporter": "python",
   "pygments_lexer": "ipython3",
   "version": "3.7.3"
  }
 },
 "nbformat": 4,
 "nbformat_minor": 2
}
