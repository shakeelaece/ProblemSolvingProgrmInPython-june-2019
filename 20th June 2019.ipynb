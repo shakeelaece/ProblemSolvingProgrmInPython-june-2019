{
 "cells": [
  {
   "cell_type": "markdown",
   "metadata": {},
   "source": [
    "## Day Objectives\n",
    "- Regular Expressions\n",
    "          - Constructing Regular Expressions for various use cases\n",
    "          - Regular Expressions Module and related in python\n",
    "          - Improving the Contacts application with name and phone number validation using Regular Expressions\n",
    "- File Handling\n",
    "          - Text Files\n",
    "          - Upgrading the Contacts Applications to store contact information in a text file"
   ]
  },
  {
   "cell_type": "markdown",
   "metadata": {},
   "source": [
    "### Regular Expressions\n",
    "\n",
    "- It is Pattern Matching\n",
    "- Symbolic Notation of a pattern\n",
    "        - Pattern: Format which repeats\n",
    "                -It represents \"The Set of all strings matches that pattern\"\n",
    "        - Ex: [0-9] --> Any digit\n",
    "        - Ex: [a-z] --> Any lower case alphabet\n",
    "        \n",
    "        \n",
    "#### Some Regular expressions in https://regex101.com/\n",
    "\n",
    "- ^[0-9]{1}$ --> Only single number highlighted\n",
    "\n",
    "- [0-9] --> All digits\n",
    "\n",
    "- [a-z] --> All lower case letters\n",
    "\n",
    "- ^[0-9]{1}$ --> Only single number highlighted\n",
    "\n",
    "- ^[0-9]{2}$ --> Only two numbers highlighted\n",
    "\n",
    "- ^[0-9]{3}$ --> Only three number highlighted\n",
    "\n",
    "- [2468] --> all multiples of 2\n",
    "\n",
    "- [0-9]*0$ --> all multiples of 10\n",
    "\n",
    "- ^([1-9][0-9]*[05])$|^([5])$  --> all multiples of 5\n",
    "\n",
    "- ^([1-9][0-9]*[10])  -->  all multiples of 10\n",
    "\n",
    "- ^[1-9][0-9]{9}$  --> all 10 digit numbers\n",
    "\n",
    "- (print) or [p][r][i][n][t] --> search for a word\n",
    "\n",
    "- ^[6-9][0-9]{9}$|^[0][6-9][0-9]{9}|^[+][9][1][6-9][0-9]{9}$ -->  Indian phone number validation\n",
    "\n",
    "- ^[0-9a-z][0-9a-z_.]{4,13}[0-9a-z][@][0-9a-z]{3,18}[.][a-z]{2,4}$  --> Email Validation(username@domain.extension\n",
    "     - username\n",
    "          - Length of username: [6,15]\n",
    "          - No special characters other than _ .\n",
    "          - Should not begin and end with _ .\n",
    "          - Character Set: all digits and lower alphabet\n",
    "     - domain\n",
    "          - Length of domain: [3,18]\n",
    "          - No special characters\n",
    "          - Character Set: all digits and lower alphabet\n",
    "     - extension\n",
    "          - Length of extension: [2,4]\n",
    "          - No special characters\n",
    "          - Character Set: lower alphabet\n",
    "          \n",
    "- ^[a]...[z]$  --> Any string of length 5 that starts with 'a' and ends with 'z'\n",
    "\n",
    "- ^[a].*[z]$  --> for any length of string that starts with 'a' and ends with 'z'"
   ]
  },
  {
   "cell_type": "markdown",
   "metadata": {},
   "source": []
  },
  {
   "cell_type": "code",
   "execution_count": 20,
   "metadata": {},
   "outputs": [
    {
     "data": {
      "text/plain": [
       "True"
      ]
     },
     "execution_count": 20,
     "metadata": {},
     "output_type": "execute_result"
    }
   ],
   "source": [
    "# Function to validate a phone number\n",
    "\n",
    "import re\n",
    "\n",
    "def phoneNumberValidator(number):\n",
    "    pattern='^[6-9][0-9]{9}$|^[0][6-9][0-9]{9}|^[+][9][1][6-9][0-9]{9}$'\n",
    "    if re.match(pattern,str(number)):\n",
    "        return True\n",
    "    return False\n",
    "phoneNumberValidator(7036311576)\n",
    "\n",
    "def emailValidator(email):\n",
    "    pattern='^[0-9a-z][0-9a-z_.]{4,13}[0-9a-z][@][0-9a-z]{3,18}[.][a-z]{2,4}$'\n",
    "    if re.match(pattern,email):\n",
    "        return True\n",
    "    return False\n",
    "emailValidator(\"shakeela759@gmail.com\")"
   ]
  },
  {
   "cell_type": "code",
   "execution_count": 30,
   "metadata": {},
   "outputs": [
    {
     "name": "stdout",
     "output_type": "stream",
     "text": [
      "name3 added successfully\n"
     ]
    }
   ],
   "source": [
    "contacts={\"name1\":[1234657342,'name1@domain.ext'],\"name2\":[9876543210,'name2@domain.ext']}\n",
    "\n",
    "\n",
    "def addContact(name,phone,email):\n",
    "    # Verify that the contact doesnot already exist or not. If not then add it\n",
    "    if name in contacts:\n",
    "        print(name,\"already exists.\")\n",
    "    else:\n",
    "        if not phoneNumberValidator(phone):\n",
    "            print(\"Invalid Phone Number\")\n",
    "            return\n",
    "        if not emailValidator(email):\n",
    "            print(\"Invalid Email address\")\n",
    "            return\n",
    "        newcontact=[]\n",
    "        newcontact.append(phone)\n",
    "        newcontact.append(email)\n",
    "        contacts[name]=newcontact\n",
    "        print(name,\"added successfully\")\n",
    "    return\n",
    "\n",
    "addContact(\"name3\",7036311576,\"shak34@gmail.com\")\n",
    "\n",
    "\n",
    "\n"
   ]
  },
  {
   "cell_type": "code",
   "execution_count": 26,
   "metadata": {},
   "outputs": [
    {
     "name": "stdout",
     "output_type": "stream",
     "text": [
      "name1\n",
      "Phone:  1234657342\n",
      "Email:  name1@domain.ext\n"
     ]
    }
   ],
   "source": [
    "def searchContacts(name):\n",
    "    if name in contacts:\n",
    "        print(name)\n",
    "        print(\"Phone: \", contacts[name][0])\n",
    "        print(\"Email: \", contacts[name][1])\n",
    "    else:\n",
    "        print(\"%s does not exist\" % name)\n",
    "    return\n",
    "searchContacts(\"name1\")\n"
   ]
  },
  {
   "cell_type": "code",
   "execution_count": 31,
   "metadata": {},
   "outputs": [
    {
     "name": "stdout",
     "output_type": "stream",
     "text": [
      "2 added successfully\n"
     ]
    },
    {
     "data": {
      "text/plain": [
       "{'name1': [1234657342, 'name1@domain.ext'],\n",
       " 'name2': [9876543210, 'name2@domain.ext'],\n",
       " 'name3': [7036311576, 'shak34@gmail.com'],\n",
       " 'name4': [6529569693, 'name4_1234@gmail.com'],\n",
       " 'name5': [3206546740, 'name5_957@gmail.com']}"
      ]
     },
     "execution_count": 31,
     "metadata": {},
     "output_type": "execute_result"
    }
   ],
   "source": [
    "def importContacts(newContacts):\n",
    "    contacts.update(newContacts)\n",
    "    print(len(newContacts.keys()),\"added successfully\")\n",
    "    return\n",
    "newContacts={\"name4\":[6529569693, \"name4_1234@gmail.com\"],\"name5\":[3206546740,\"name5_957@gmail.com\"]}\n",
    "\n",
    "importContacts(newContacts)\n",
    "contacts"
   ]
  },
  {
   "cell_type": "code",
   "execution_count": 36,
   "metadata": {},
   "outputs": [
    {
     "name": "stdout",
     "output_type": "stream",
     "text": [
      "name1 \n",
      " Phone:  1234657342 \n",
      " Email:  name1@domain.ext\n",
      "name2 \n",
      " Phone:  9876543210 \n",
      " Email:  name2@domain.ext\n",
      "name3 \n",
      " Phone:  7036311576 \n",
      " Email:  shak34@gmail.com\n",
      "name4 \n",
      " Phone:  6529569693 \n",
      " Email:  name4_1234@gmail.com\n",
      "name5 \n",
      " Phone:  3206546740 \n",
      " Email:  name5_957@gmail.com\n"
     ]
    }
   ],
   "source": [
    "def listAllContacts():\n",
    "    for contact,info in contacts.items():\n",
    "        print(contact,\"\\n\", \"Phone: \",info[0],\"\\n\",\"Email: \",info[1])\n",
    "    return\n",
    "listAllContacts()\n",
    "        \n",
    "    "
   ]
  },
  {
   "cell_type": "code",
   "execution_count": null,
   "metadata": {},
   "outputs": [],
   "source": []
  },
  {
   "cell_type": "code",
   "execution_count": null,
   "metadata": {},
   "outputs": [],
   "source": []
  },
  {
   "cell_type": "markdown",
   "metadata": {},
   "source": [
    "### File Handling in Python\n",
    "\n",
    "File - Document containing information residing on the permanent storage\n",
    "\n",
    "Types- Text, PDF, CSV, etc.,\n",
    "\n",
    "File I/O - Channelling I/O data to files\n",
    "\n",
    "Default I/O channels - Keyboard / Screen\n",
    "\n",
    "Change I/O channel to files for Reading and Writing\n",
    "\n",
    "Read a file - Input\n",
    "\n",
    "Write a file - Output\n",
    "\n",
    "Read/Write a file - open(filename,mode)\n",
    "\n",
    "Mode means Read or Write\n",
    "\n",
    "For Read --> 'r'\n",
    "\n",
    "For Write --> 'w'\n",
    "\n",
    "For Append or Rewrite --> 'a'"
   ]
  },
  {
   "cell_type": "code",
   "execution_count": 2,
   "metadata": {},
   "outputs": [
    {
     "data": {
      "text/plain": [
       "['Hello. My name is 1234. ', 'Hello.', 'Hii My name is 546.', 'what?', '']"
      ]
     },
     "execution_count": 2,
     "metadata": {},
     "output_type": "execute_result"
    }
   ],
   "source": [
    "# Function to \"Read\" a file\n",
    "\n",
    "def readFile(filename):    \n",
    "    f=open(filename,'r')   # Here r means read mode, here read the only file name\n",
    "    filedata=f.read()      # Here read the entire data in the file\n",
    "    f.close\n",
    "    return filedata\n",
    "filename='DataFiles/data.txt'\n",
    "readFile(filename).split('\\n')"
   ]
  },
  {
   "cell_type": "code",
   "execution_count": 42,
   "metadata": {},
   "outputs": [
    {
     "name": "stdout",
     "output_type": "stream",
     "text": [
      "Line1\n",
      "Line2\n",
      "Line3\n"
     ]
    }
   ],
   "source": [
    "def readFile(filename):    \n",
    "    f=open(filename,'r')     \n",
    "    filedata=f.read()     \n",
    "    f.close\n",
    "    return filedata\n",
    "filename='DataFiles/data.txt'\n",
    "filedata=readFile(filename)\n",
    "for line in filedata.split('\\n'):\n",
    "    print(line)"
   ]
  },
  {
   "cell_type": "code",
   "execution_count": 3,
   "metadata": {},
   "outputs": [
    {
     "name": "stdout",
     "output_type": "stream",
     "text": [
      "Hello. My name is 1234. \n",
      "Hello.\n",
      "Hii My name is 546.\n",
      "what?\n"
     ]
    }
   ],
   "source": [
    "def printFileDataLines(filename):\n",
    "    with open(filename,'r') as f:\n",
    "        for line in f:\n",
    "            print(line,end='')\n",
    "    return\n",
    "printFileDataLines(filename)"
   ]
  },
  {
   "cell_type": "code",
   "execution_count": 50,
   "metadata": {},
   "outputs": [],
   "source": [
    "# Function to \"Write\" a file\n",
    "\n",
    "def writeIntoFile(filename,filedata):\n",
    "    with open(filename,'w') as f:\n",
    "        f.write(filedata)\n",
    "    return\n",
    "filename='DataFiles/data.txt'\n",
    "writeIntoFile(filename,\"Hello\")       # Output shows in txt file when refresh it"
   ]
  },
  {
   "cell_type": "code",
   "execution_count": 53,
   "metadata": {},
   "outputs": [],
   "source": [
    "# Function to \"Append\" data to the file\n",
    "\n",
    "def appendDataToFiles(filename,filedata):\n",
    "    with open(filename,'a') as f:\n",
    "        f.write(filedata)\n",
    "    return\n",
    "filedata=\"Line1\\nLine2\\nLine3\"\n",
    "appendDataToFiles(filename,filedata)"
   ]
  },
  {
   "cell_type": "code",
   "execution_count": 57,
   "metadata": {},
   "outputs": [],
   "source": [
    "# Function to adding a list\n",
    "\n",
    "def appendDataToFiles(filename,filedata):\n",
    "    with open(filename,'a') as f:\n",
    "        for line in filedata:\n",
    "            f.write('\\n'+line)\n",
    "    return\n",
    "filedata=[\"Line5\",\"Line6\"]\n",
    "appendDataToFiles(filename,filedata)"
   ]
  },
  {
   "cell_type": "code",
   "execution_count": null,
   "metadata": {},
   "outputs": [],
   "source": []
  },
  {
   "cell_type": "code",
   "execution_count": null,
   "metadata": {},
   "outputs": [],
   "source": []
  },
  {
   "cell_type": "code",
   "execution_count": null,
   "metadata": {},
   "outputs": [],
   "source": []
  }
 ],
 "metadata": {
  "kernelspec": {
   "display_name": "Python 3",
   "language": "python",
   "name": "python3"
  },
  "language_info": {
   "codemirror_mode": {
    "name": "ipython",
    "version": 3
   },
   "file_extension": ".py",
   "mimetype": "text/x-python",
   "name": "python",
   "nbconvert_exporter": "python",
   "pygments_lexer": "ipython3",
   "version": "3.7.3"
  }
 },
 "nbformat": 4,
 "nbformat_minor": 2
}
