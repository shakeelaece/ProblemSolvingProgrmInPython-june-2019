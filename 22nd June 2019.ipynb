{
 "cells": [
  {
   "cell_type": "markdown",
   "metadata": {},
   "source": [
    "## Day Objectives\n",
    "- File Handling\n",
    "    - Basic File Data Proccessing\n",
    "        - Accessing and Modifying File Data\n",
    "    - Character Count\n",
    "    - Line Count\n",
    "    - File Size\n",
    "    - Word Count\n",
    "    - Unique word Count"
   ]
  },
  {
   "cell_type": "code",
   "execution_count": 1,
   "metadata": {},
   "outputs": [
    {
     "name": "stdout",
     "output_type": "stream",
     "text": [
      "<class '_io.TextIOWrapper'>\n"
     ]
    }
   ],
   "source": [
    "# If you want to read a file - File should exist(Read Mode)\n",
    "# If you want to write a file - File is Existing(append mode) or we create a New File(Write Mode)\n",
    "\n",
    "\n",
    "# print the typu of file\n",
    "def readFile(filePath):\n",
    "    with open(filePath,'r') as f:\n",
    "        print(type(f))\n",
    "    return\n",
    "filePath='DataFiles/data.txt'\n",
    "readFile(filePath)"
   ]
  },
  {
   "cell_type": "code",
   "execution_count": 1,
   "metadata": {},
   "outputs": [
    {
     "name": "stdout",
     "output_type": "stream",
     "text": [
      "Hello. My name is 1234. \n",
      "Hello.\n",
      "Hii My name is 546.\n",
      "what?\n",
      "\n"
     ]
    }
   ],
   "source": [
    "# Read a file\n",
    "\n",
    "def readFile(filePath):\n",
    "    with open(filePath,'r') as f:\n",
    "        filedata=f.read()   # Reads the entire file data into a string\n",
    "    return filedata\n",
    "filePath='DataFiles/data.txt'\n",
    "print(readFile(filePath))"
   ]
  },
  {
   "cell_type": "code",
   "execution_count": 15,
   "metadata": {},
   "outputs": [
    {
     "name": "stdout",
     "output_type": "stream",
     "text": [
      "53\n"
     ]
    }
   ],
   "source": [
    "# Character count\n",
    "\n",
    "def charCount(filePath):\n",
    "    count=0\n",
    "    with open(filePath,'r') as f:\n",
    "        filedata=f.read()\n",
    "        for i in filedata:     \n",
    "            if((i == \" \")or(i == \"\\n\")or(i.isalpha())or(i.isdigit())):\n",
    "                count+=1\n",
    "        print(count)\n",
    "    return\n",
    "filePath='DataFiles/data.txt'\n",
    "charCount(filePath)"
   ]
  },
  {
   "cell_type": "code",
   "execution_count": 13,
   "metadata": {},
   "outputs": [
    {
     "name": "stdout",
     "output_type": "stream",
     "text": [
      "4\n"
     ]
    }
   ],
   "source": [
    "# Line Count\n",
    "\n",
    "def lineCount(filePath):\n",
    "    count=0\n",
    "    with open(filePath,'r') as f:\n",
    "        filedata=f.readlines()\n",
    "        for line in filedata:\n",
    "            count+=1\n",
    "        print(count)\n",
    "  #  return\n",
    "filePath='DataFiles/data.txt'\n",
    "lineCount(filePath)"
   ]
  },
  {
   "cell_type": "code",
   "execution_count": 4,
   "metadata": {},
   "outputs": [
    {
     "name": "stdout",
     "output_type": "stream",
     "text": [
      "12\n"
     ]
    }
   ],
   "source": [
    "# Word Count\n",
    "\n",
    "def wordCount(filePath):\n",
    "    count=0\n",
    "    with open(filePath,'r') as f:\n",
    "        filedata=f.read()\n",
    "        count=len(filedata.split())\n",
    "        print(count)\n",
    "    return\n",
    "filePath='DataFiles/data.txt'\n",
    "wordCount(filePath)"
   ]
  },
  {
   "cell_type": "code",
   "execution_count": 5,
   "metadata": {},
   "outputs": [
    {
     "name": "stdout",
     "output_type": "stream",
     "text": [
      "os.stat_result(st_mode=33206, st_ino=11540474045537687, st_dev=3625488153, st_nlink=1, st_uid=0, st_gid=0, st_size=58, st_atime=1561033095, st_mtime=1561197687, st_ctime=1561033095)\n"
     ]
    }
   ],
   "source": [
    "# File size\n",
    "\n",
    "import os\n",
    "\n",
    "def file_size(file_path):\n",
    "    #this function will return the file size\n",
    "    if os.path.isfile(file_path):\n",
    "        file_info = os.stat(file_path)\n",
    "    return file_info\n",
    "    \n",
    "file_path = 'DataFiles/data.txt'\n",
    "print(file_size(file_path))"
   ]
  },
  {
   "cell_type": "code",
   "execution_count": 14,
   "metadata": {},
   "outputs": [
    {
     "name": "stdout",
     "output_type": "stream",
     "text": [
      "58 bytes\n"
     ]
    }
   ],
   "source": [
    "# File Size\n",
    "\n",
    "import os\n",
    "def file_size(file_path):\n",
    "    size=os.path.getsize(file_path)\n",
    "    print(size,'bytes')\n",
    "    \n",
    "file_path = 'DataFiles/data.txt'\n",
    "file_size(file_path)"
   ]
  },
  {
   "cell_type": "code",
   "execution_count": 94,
   "metadata": {},
   "outputs": [
    {
     "name": "stdout",
     "output_type": "stream",
     "text": [
      "dict_items([('Hello.', 2), ('My', 2), ('name', 2), ('is', 2), ('1234.', 1), ('Hii', 1), ('546.', 1), ('what?', 1)])\n",
      "{'Hello.': 2, 'My': 2, 'name': 2, 'is': 2, '1234.': 1, 'Hii': 1, '546.': 1, 'what?': 1}\n",
      "['1234.', 'Hii', '546.', 'what?']\n"
     ]
    }
   ],
   "source": [
    "# Unique Words \n",
    "\n",
    "from collections import defaultdict   #The 'defaultdict' tool is a container in the 'collections' class of 'Python'. \n",
    "d = defaultdict(int)\n",
    "for word in open('DataFiles/data.txt').read().split():\n",
    "    d[word] += 1\n",
    "    l1=dict(d.items())\n",
    "print(d.items())\n",
    "print(l1)\n",
    "listOfKeys = [key  for (key, value) in d.items() if value == 1]\n",
    "print(listOfKeys)"
   ]
  },
  {
   "cell_type": "code",
   "execution_count": 7,
   "metadata": {},
   "outputs": [
    {
     "name": "stdout",
     "output_type": "stream",
     "text": [
      "53\n"
     ]
    }
   ],
   "source": [
    "# Char Count\n",
    "\n",
    "def char (filePath):\n",
    "    count=len(readFile(filePath))\n",
    "    return count\n",
    "charCount(filePath)"
   ]
  }
 ],
 "metadata": {
  "kernelspec": {
   "display_name": "Python 3",
   "language": "python",
   "name": "python3"
  },
  "language_info": {
   "codemirror_mode": {
    "name": "ipython",
    "version": 3
   },
   "file_extension": ".py",
   "mimetype": "text/x-python",
   "name": "python",
   "nbconvert_exporter": "python",
   "pygments_lexer": "ipython3",
   "version": "3.7.3"
  }
 },
 "nbformat": 4,
 "nbformat_minor": 2
}
