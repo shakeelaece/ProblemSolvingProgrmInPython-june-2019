{
 "cells": [
  {
   "cell_type": "markdown",
   "metadata": {},
   "source": [
    "# Markdown Basics\n",
    "## Markdown Basics\n",
    "### Markdown Basics\n",
    "* **Bold ** \n",
    "* *Itallic*\n",
    "* ***IB***\n",
    "* Normal Test\n",
    " * Sublist 1\n",
    " * Sublist 2\n",
    " \n",
    "\n",
    "1. Ordered list element 1\n",
    "2. Ordered list element 2\n",
    "\n",
    "[logo](jupyter.png)\n",
    "<img align=\"left\" src=\"jupyter.png\" style=\"format:left\" >\n",
    "\n",
    "\n",
    "\n",
    "\n",
    "`print(\"Hello\")`\n",
    "\n",
    "\n",
    "<https://google.com>\n"
   ]
  },
  {
   "cell_type": "code",
   "execution_count": null,
   "metadata": {},
   "outputs": [],
   "source": []
  },
  {
   "cell_type": "markdown",
   "metadata": {},
   "source": [
    " # Python Basics\n",
    " \n",
    " Python Version 3.7\n",
    "\n",
    " -Scripting\n",
    " -Object Oriented"
   ]
  },
  {
   "cell_type": "code",
   "execution_count": 2,
   "metadata": {},
   "outputs": [
    {
     "name": "stdout",
     "output_type": "stream",
     "text": [
      "Good Afternoon  ! Hello Python\n"
     ]
    }
   ],
   "source": [
    "# Python Comments\n",
    "\n",
    "print(\"Good Afternoon \",\"!\", end=\" \") #Basic Output\n",
    "print(\"Hello Python\")"
   ]
  },
  {
   "cell_type": "markdown",
   "metadata": {},
   "source": [
    "### Assignment"
   ]
  },
  {
   "cell_type": "code",
   "execution_count": 3,
   "metadata": {},
   "outputs": [
    {
     "name": "stdout",
     "output_type": "stream",
     "text": [
      "123 234 345\n"
     ]
    }
   ],
   "source": [
    "n1=123456 #Single Variable Assignment\n",
    "n1\n",
    "\n",
    "n2 = n3 = n4 = n1 #Multi Variable Assignment of the same value\n",
    "n3\n",
    "\n",
    "a, b, c = 123, 234, 345 #Multi Variable Assignment with different values\n",
    "print(a, b, c)\n"
   ]
  },
  {
   "cell_type": "code",
   "execution_count": null,
   "metadata": {},
   "outputs": [],
   "source": []
  },
  {
   "cell_type": "markdown",
   "metadata": {},
   "source": [
    "### Arithmetic Operations\n",
    "- +\n",
    "- -\n",
    "- *\n",
    "- /\n",
    "- %\n",
    "- **"
   ]
  },
  {
   "cell_type": "code",
   "execution_count": 4,
   "metadata": {},
   "outputs": [
    {
     "data": {
      "text/plain": [
       "str"
      ]
     },
     "execution_count": 4,
     "metadata": {},
     "output_type": "execute_result"
    }
   ],
   "source": [
    "n1 % 11\n",
    "\n",
    "n3 = n2 ** 12\n",
    "\n",
    "type(n3)\n",
    "len(str(n3))\n",
    "n3\n",
    "\n",
    "atoms = 10 ** 82\n",
    "len(str(atoms))\n",
    "type(str(atoms))"
   ]
  },
  {
   "cell_type": "code",
   "execution_count": null,
   "metadata": {},
   "outputs": [],
   "source": []
  },
  {
   "cell_type": "markdown",
   "metadata": {},
   "source": [
    "### Conditionals"
   ]
  },
  {
   "cell_type": "code",
   "execution_count": 13,
   "metadata": {},
   "outputs": [
    {
     "name": "stdout",
     "output_type": "stream",
     "text": [
      "FALSE\n"
     ]
    }
   ],
   "source": [
    "if atoms < 10 ** 9:\n",
    "    print(\"TRUE\")\n",
    "else:\n",
    "    print(\"FALSE\")"
   ]
  },
  {
   "cell_type": "code",
   "execution_count": 15,
   "metadata": {},
   "outputs": [
    {
     "name": "stdout",
     "output_type": "stream",
     "text": [
      "Even\n"
     ]
    }
   ],
   "source": [
    "#Check if a number is EVEN or ODD\n",
    " \n",
    "n=123\n",
    "if n % 2== 0:\n",
    "    print(\"Even\")\n",
    "else:\n",
    "    print(\"Odd\")"
   ]
  },
  {
   "cell_type": "code",
   "execution_count": 3,
   "metadata": {},
   "outputs": [
    {
     "name": "stdout",
     "output_type": "stream",
     "text": [
      "Enter the first number-1\n",
      "Enter the second number-100\n",
      "Enter the third number-50\n",
      "-1 is the greatest\n"
     ]
    }
   ],
   "source": [
    "# Find the greatest of 3 numbers\n",
    "    \n",
    "n1 = int(input(\"Enter the first number\"))\n",
    "n2 = int(input(\"Enter the second number\"))\n",
    "n3 = int(input(\"Enter the third number\"))\n",
    "if n1 > n2 and n1 > n3:\n",
    "    print(n1, \"is the greatest\")\n",
    "elif n2 > n3:\n",
    "    print(n2, \"is the greatest\")\n",
    "else:\n",
    "    print(n3, \"is the greatest\")"
   ]
  },
  {
   "cell_type": "code",
   "execution_count": 5,
   "metadata": {},
   "outputs": [
    {
     "name": "stdout",
     "output_type": "stream",
     "text": [
      "Enter the year2020\n",
      "2020 is a leap year\n"
     ]
    }
   ],
   "source": [
    "# Check the given year is Leap year or not\n",
    "\n",
    "n = int(input(\"Enter the year\"))\n",
    "if n % 400 == 0:\n",
    "    print(n, \"is a leap year\")\n",
    "elif n % 100 != 0 and n % 4 == 0:\n",
    "    print(n, \"is a leap year\")\n",
    "else:\n",
    "    print(n, \"is not a leap year\")"
   ]
  },
  {
   "cell_type": "code",
   "execution_count": 6,
   "metadata": {
    "scrolled": false
   },
   "outputs": [
    {
     "name": "stdout",
     "output_type": "stream",
     "text": [
      "enter a number77\n",
      "enter the lower bound50\n",
      "enter the upper bound100\n",
      "77 is exists\n"
     ]
    }
   ],
   "source": [
    "# Check if a number exists in a given range(inclusive bounds)\n",
    "\n",
    "n1 = int(input(\"enter a number\"))\n",
    "lb = int(input(\"enter the lower bound\"))\n",
    "ub = int(input(\"enter the upper bound\"))\n",
    "if n1 >= lb and n1 <= ub:\n",
    "    print(n1, \"is exists\")\n",
    "else:\n",
    "    print(n1, \"is not exists\")"
   ]
  },
  {
   "cell_type": "code",
   "execution_count": 32,
   "metadata": {},
   "outputs": [
    {
     "name": "stdout",
     "output_type": "stream",
     "text": [
      "Enter a number1234567\n",
      "7\n"
     ]
    }
   ],
   "source": [
    "# Calculate the number of digits in a number\n",
    "\n",
    "n = int(input(\"Enter a number\"))\n",
    "print(len(str(n)))"
   ]
  },
  {
   "cell_type": "code",
   "execution_count": 9,
   "metadata": {},
   "outputs": [
    {
     "name": "stdout",
     "output_type": "stream",
     "text": [
      "ENter a number78\n",
      "78 is not a multiple of 10\n"
     ]
    }
   ],
   "source": [
    "# Check if a number is a multiple of 10\n",
    "\n",
    "n = int(input(\"ENter a number\"))\n",
    "if n % 10 == 0:\n",
    "    print(n, \"is a multiple of 10\")\n",
    "else:\n",
    "    print(n, \"is not a multiple of 10\")"
   ]
  },
  {
   "cell_type": "code",
   "execution_count": 19,
   "metadata": {},
   "outputs": [
    {
     "name": "stdout",
     "output_type": "stream",
     "text": [
      "Enter a number8700\n",
      "8700 is a not factor of 1000\n"
     ]
    }
   ],
   "source": [
    "# Check if a number is a factor of 1000\n",
    "\n",
    "n = int(input(\"Enter a number\"))\n",
    "if 1000 % n == 0:\n",
    "    print(n, \"is a factor of 1000\")\n",
    "else:\n",
    "    print(n, \"is a not factor of 1000\")"
   ]
  },
  {
   "cell_type": "code",
   "execution_count": 33,
   "metadata": {},
   "outputs": [
    {
     "name": "stdout",
     "output_type": "stream",
     "text": [
      "1234 is not equal to s1\n"
     ]
    }
   ],
   "source": [
    "# Check if given string is equal to a number\n",
    "s1 = \"hell0\"\n",
    "n1 = 1234\n",
    "if str(n1) == s1:\n",
    "    print(n1, \"is equal to s1\")\n",
    "else:\n",
    "    print(n1, \"is not equal to s1\")"
   ]
  },
  {
   "cell_type": "code",
   "execution_count": 27,
   "metadata": {},
   "outputs": [
    {
     "data": {
      "text/plain": [
       "10.0"
      ]
     },
     "execution_count": 27,
     "metadata": {},
     "output_type": "execute_result"
    }
   ],
   "source": [
    "# calculate the Square root of a number without functions\n",
    "\n",
    "n = 100\n",
    "n ** 0.5"
   ]
  },
  {
   "cell_type": "code",
   "execution_count": 23,
   "metadata": {},
   "outputs": [
    {
     "name": "stdout",
     "output_type": "stream",
     "text": [
      "Enter a year2019\n",
      "31536000000000000\n"
     ]
    }
   ],
   "source": [
    "# Calculate the number of micro seconds in a given year(considering leap year logic)\n",
    "\n",
    "a = int(input(\"Enter a year\"))\n",
    "if a % 400 == 0 or (a % 100 !=0 and a % 4 == 0):\n",
    "    print(366 * 24 * 60 * 60 * (10**9))\n",
    "else:\n",
    "    print(365 * 24 * 60 * 60 * (10**9))"
   ]
  },
  {
   "cell_type": "code",
   "execution_count": null,
   "metadata": {},
   "outputs": [],
   "source": []
  },
  {
   "cell_type": "markdown",
   "metadata": {},
   "source": [
    "### Data Types\n",
    "- int\n",
    "- Float\n",
    "- String"
   ]
  },
  {
   "cell_type": "code",
   "execution_count": 10,
   "metadata": {},
   "outputs": [
    {
     "data": {
      "text/plain": [
       "'hello 123'"
      ]
     },
     "execution_count": 10,
     "metadata": {},
     "output_type": "execute_result"
    }
   ],
   "source": [
    "type(a)\n",
    "s1 = \"Python\"\n",
    "type(s1)\n",
    "\n",
    "f1 = 12.345\n",
    "type(f1)\n",
    "\n",
    "int(f1)\n",
    "float(str(int(f1)))\n",
    "s2 = \"hello 123\"\n",
    "s2"
   ]
  },
  {
   "cell_type": "code",
   "execution_count": null,
   "metadata": {},
   "outputs": [],
   "source": []
  }
 ],
 "metadata": {
  "kernelspec": {
   "display_name": "Python 3",
   "language": "python",
   "name": "python3"
  },
  "language_info": {
   "codemirror_mode": {
    "name": "ipython",
    "version": 3
   },
   "file_extension": ".py",
   "mimetype": "text/x-python",
   "name": "python",
   "nbconvert_exporter": "python",
   "pygments_lexer": "ipython3",
   "version": "3.7.3"
  }
 },
 "nbformat": 4,
 "nbformat_minor": 2
}
