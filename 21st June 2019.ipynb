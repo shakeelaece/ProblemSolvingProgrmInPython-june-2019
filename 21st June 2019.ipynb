{
 "cells": [
  {
   "cell_type": "code",
   "execution_count": 21,
   "metadata": {},
   "outputs": [
    {
     "name": "stdout",
     "output_type": "stream",
     "text": [
      "name3 added to contacts\n"
     ]
    }
   ],
   "source": [
    "# Function to add contact to contacts text file\n",
    "\n",
    "from Packages.validators import phoneNumberValidator as pnv, emailValidator as ev\n",
    "#from Packages.validators import emailValidator as ev\n",
    "\n",
    "\n",
    "def addContact(name, phone, email):\n",
    "    # store data as name,phone,email in the contacts file    \n",
    "    filename = 'DataFiles/contacts.txt'\n",
    "    if not checkContactExists(name):\n",
    "        if pnv(phone) and ev(email):\n",
    "            with open(filename, 'a') as f:\n",
    "                line = name + ',' + str(phone) + ',' + email + '\\n'\n",
    "                f.write(line)\n",
    "            print(name, 'added to contacts')\n",
    "        else:\n",
    "            print('Invalid Phone number or Email')\n",
    "            return\n",
    "    else:\n",
    "        print(name, 'already exists')\n",
    "    return\n",
    "\n",
    "import re\n",
    "# Function to check if contact already exists\n",
    "def checkContactExists(name):\n",
    "    filename = 'DataFiles/contacts.txt'\n",
    "    with open(filename, 'r') as f:\n",
    "        filedata = f.read()\n",
    "        pattern = name+','\n",
    "    return re.search(pattern, filedata)\n",
    "\n",
    "addContact('name3', 9836526350, 'name3_45@gmail.com')"
   ]
  },
  {
   "cell_type": "code",
   "execution_count": 22,
   "metadata": {},
   "outputs": [
    {
     "data": {
      "text/plain": [
       "'name2,8765432109,name2_34@gmail.com\\nname1,6335087645,name1_23@gmail.com\\nname3,9836526350,name3_45@gmail.com\\n'"
      ]
     },
     "execution_count": 22,
     "metadata": {},
     "output_type": "execute_result"
    }
   ],
   "source": [
    "filename = 'DataFiles/contacts.txt'\n",
    "def csvToList(filename):\n",
    "    li=[]\n",
    "    with open (filename,'r') as f:\n",
    "        for line in f:\n",
    "            li.append(line.split(','))\n",
    "    return li\n",
    "#csvToList(filename)\n",
    "\n",
    "def listToFile(li):\n",
    "    s=''\n",
    "    for i in li:\n",
    "        s += ','.join(i)\n",
    "    return s\n",
    "li=csvToList(filename)\n",
    "listToFile(li)"
   ]
  },
  {
   "cell_type": "code",
   "execution_count": 26,
   "metadata": {},
   "outputs": [
    {
     "data": {
      "text/plain": [
       "-1"
      ]
     },
     "execution_count": 26,
     "metadata": {},
     "output_type": "execute_result"
    }
   ],
   "source": [
    "#Function to delete Contact in a file\n",
    "\n",
    "def searchWithreturn(filename,name):\n",
    "    f1= CSVToList(filename)\n",
    "    flag=0\n",
    "    for i in range (len(f1)):\n",
    "        if name==f1[i][0]:\n",
    "            flag=1\n",
    "            return i\n",
    "    if flag==0:\n",
    "        return -1\n",
    "    \n",
    "def CSVToList(filename):\n",
    "    li=[]\n",
    "    with open(filename,'r') as f:\n",
    "        for line in f:\n",
    "            li.append(line.split(','))\n",
    "    return li\n",
    "\n",
    "def listToFile(li):\n",
    "    s=''\n",
    "    for i in li:\n",
    "        s+=','.join(i)\n",
    "    return s\n",
    "\n",
    "filename = 'DataFiles/contacts.txt'\n",
    "searchWithreturn(filename,\"name1\")\n",
    "\n",
    "\n"
   ]
  },
  {
   "cell_type": "code",
   "execution_count": 24,
   "metadata": {},
   "outputs": [
    {
     "name": "stdout",
     "output_type": "stream",
     "text": [
      "1\n"
     ]
    }
   ],
   "source": [
    "def deletephoneno(filename,name):\n",
    "    i=searchWithreturn(filename,name)\n",
    "    print(i)\n",
    "    if i!=-1:\n",
    "        f1=CSVToList(filename)\n",
    "        f1.pop(i)\n",
    "        s=listToFile(f1)\n",
    "        with open(filename,'w')as f:\n",
    "            f.write(s)\n",
    "    else:\n",
    "        print(\"contact not found to remove\")\n",
    "        \n",
    "filename=\"DataFiles/contacts.txt\" \n",
    "deletephoneno(filename,\"name1\")"
   ]
  },
  {
   "cell_type": "code",
   "execution_count": 27,
   "metadata": {},
   "outputs": [
    {
     "name": "stdout",
     "output_type": "stream",
     "text": [
      "contact not found\n"
     ]
    }
   ],
   "source": [
    "#Function to modify contacts data in file\n",
    "\n",
    "#to update name 0\n",
    "#to updtae number 1\n",
    "#to update email 2\n",
    "def modifycontact(filename,name,f,value):\n",
    "    if(searchWithreturn(filename,name)>=0):\n",
    "        i=searchWithreturn(filename,name)\n",
    "        if((int(f)==0)):\n",
    "            f1=CSVToList(filename)\n",
    "            f1[i].pop(0)\n",
    "            f1[i].insert(0,value)\n",
    "            s=listToFile(f1)\n",
    "            with open(filename,'w')as f:\n",
    "                f.write(s)\n",
    "                print(\"name updated\")\n",
    "        \n",
    "        elif((int(f))==1):\n",
    "            f1=CSVToList(filename)\n",
    "            f1[i].pop(1)\n",
    "            f1[i].insert(1,value)\n",
    "            s=listToFile(f1)\n",
    "            with open(filename,'w')as f:\n",
    "                f.write(s)\n",
    "                print(\"phone no updated\")\n",
    "        elif((int(f))==2):\n",
    "            f1=CSVToList(filename)\n",
    "            f1[i].pop(2)\n",
    "            f1[i].insert(2,value)\n",
    "            s=listToFile(f1)\n",
    "            with open(filename,'w')as f:\n",
    "                f.write(s)\n",
    "                print(\"email updated\")\n",
    "    else:\n",
    "        print(\"contact not found\")\n",
    "        \n",
    "        \n",
    "modifycontact(filename,\"name114\",\"2\",\"9550817745\") \n"
   ]
  },
  {
   "cell_type": "code",
   "execution_count": null,
   "metadata": {},
   "outputs": [],
   "source": []
  },
  {
   "cell_type": "code",
   "execution_count": null,
   "metadata": {},
   "outputs": [],
   "source": []
  },
  {
   "cell_type": "code",
   "execution_count": null,
   "metadata": {},
   "outputs": [],
   "source": []
  },
  {
   "cell_type": "code",
   "execution_count": null,
   "metadata": {},
   "outputs": [],
   "source": []
  }
 ],
 "metadata": {
  "kernelspec": {
   "display_name": "Python 3",
   "language": "python",
   "name": "python3"
  },
  "language_info": {
   "codemirror_mode": {
    "name": "ipython",
    "version": 3
   },
   "file_extension": ".py",
   "mimetype": "text/x-python",
   "name": "python",
   "nbconvert_exporter": "python",
   "pygments_lexer": "ipython3",
   "version": "3.7.3"
  }
 },
 "nbformat": 4,
 "nbformat_minor": 2
}
