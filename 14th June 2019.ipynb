{
 "cells": [
  {
   "cell_type": "markdown",
   "metadata": {},
   "source": [
    "# Day Objectives\n",
    "\n",
    "- Python Data Structures\n",
    "    - Lists\n",
    "    - Tuples\n",
    "    - Dictionaries\n",
    "- Basic Problem set on Data Structures\n",
    "- Advanced Problem Set\n",
    "- Packages and Modules in Python"
   ]
  },
  {
   "cell_type": "code",
   "execution_count": null,
   "metadata": {},
   "outputs": [],
   "source": []
  },
  {
   "cell_type": "markdown",
   "metadata": {},
   "source": [
    "## Python Data Structures"
   ]
  },
  {
   "cell_type": "markdown",
   "metadata": {},
   "source": [
    "### Lists"
   ]
  },
  {
   "cell_type": "code",
   "execution_count": 29,
   "metadata": {},
   "outputs": [
    {
     "data": {
      "text/plain": [
       "456.0"
      ]
     },
     "execution_count": 29,
     "metadata": {},
     "output_type": "execute_result"
    }
   ],
   "source": [
    "li = [123, 978, 654]\n",
    "\n",
    "li # Access the entire list\n",
    "\n",
    "li[1] # Accessing the second element in the list by using index\n",
    "\n",
    "li[1:] # Accessing the all elements from second element to last element in the list\n",
    "\n",
    "li[::-1] # Reverse list elements \n",
    "\n",
    "li[::2] # Accessing the even index elements\n",
    "\n",
    "li[1::2] # Accessing the odd even index elements\n",
    "\n",
    "\n",
    "# Lists can be accessed, manipulated in two different ways\n",
    "        # 1. Direct Referencing - Access the data through index[]\n",
    "        # 2. Indirect Referencing - Access the data through functions\n",
    "        \n",
    "li.append(345) # Adding an element to end of the list\n",
    "li\n",
    "\n",
    "li.insert(1,234) # Adding an element at particular index\n",
    "li\n",
    "\n",
    "li.sort() # Sort elements in ascending order\n",
    "li\n",
    "\n",
    "li.pop() # Remove the last element in the list\n",
    "\n",
    "li.pop(1)  # Remove an element at a particular index\n",
    "\n",
    "li2 = [234, 456, 789]\n",
    "\n",
    "li.extend(li2) # Merge list2 into list1\n",
    "li\n",
    "\n",
    "sum(li) # Sum of all the elements in the list\n",
    "\n",
    "max(li) # Muximum element in the list\n",
    "\n",
    "len(li) # length or no.of elements in the list\n",
    "\n",
    "\n",
    "sum(li)/len(li) # Average of elements in the list\n",
    "\n",
    "# Average of all alternate elements in the list\n",
    "sum(li[::2])/len(li[::2]) # for even positions\n",
    "sum(li[1::2])/len(li[1::2]) # for odd positions"
   ]
  },
  {
   "cell_type": "code",
   "execution_count": 47,
   "metadata": {},
   "outputs": [
    {
     "data": {
      "text/plain": [
       "[123, 234, 345, 456, 654, 789]"
      ]
     },
     "execution_count": 47,
     "metadata": {},
     "output_type": "execute_result"
    }
   ],
   "source": [
    "# Function to identify  the second largest element in the list\n",
    "\n",
    "def secondLargest(li):\n",
    "    li.sort()\n",
    "    return li[-2]\n",
    "secondLargest([123,789,993,234,643])\n",
    "\n",
    "\n",
    "# Function that returns the n'th largest\n",
    "def genericLargest(li,n):\n",
    "    li.sort()\n",
    "    return li[-n]\n",
    "secondLargest(li)\n",
    "genericLargest(li,5)\n",
    "li\n"
   ]
  },
  {
   "cell_type": "code",
   "execution_count": 55,
   "metadata": {},
   "outputs": [
    {
     "data": {
      "text/plain": [
       "-1"
      ]
     },
     "execution_count": 55,
     "metadata": {},
     "output_type": "execute_result"
    }
   ],
   "source": [
    "# Function to search for data in a list and return the index of that data\n",
    "def linearSearch(li,key):\n",
    "    for index in range(0, len(li)):\n",
    "        if li[index] == key:\n",
    "            return index\n",
    "    return -1\n",
    "\n",
    "\n",
    "# OR\n",
    "def linearSearch2(li,key):\n",
    "    for element in li:\n",
    "        if element == key:\n",
    "            return li.index(element)\n",
    "    return -1\n",
    "\n",
    "\n",
    "# OR\n",
    "def linearSearch3(li,key):\n",
    "    if key in li:\n",
    "        return li.index(key)\n",
    "    return -1\n",
    "linearSearch3(li,100)\n",
    "        "
   ]
  },
  {
   "cell_type": "code",
   "execution_count": 1,
   "metadata": {},
   "outputs": [
    {
     "data": {
      "text/plain": [
       "4"
      ]
     },
     "execution_count": 1,
     "metadata": {},
     "output_type": "execute_result"
    }
   ],
   "source": [
    "# Function to count the occurances of a character in a string\n",
    "# \"Python programming\", m --> 2\n",
    "\n",
    "def countCharOccurances(s,c):\n",
    "    count=0\n",
    "    for ch in s:\n",
    "        if ch == c:\n",
    "            count +=1\n",
    "    return count\n",
    "\n",
    "\n",
    "\n",
    "def countCharOccurances2(s, c):\n",
    "    return s.count(c)\n",
    "countCharOccurances2(\"abcabbabccbab\",'ab')\n",
    "\n",
    "\n",
    "# Function to find the number of occurances of a substring in a given string\n",
    "#\"abcabcddcbaaaa\", \"aa\" --> 3\n",
    "    "
   ]
  },
  {
   "cell_type": "code",
   "execution_count": 3,
   "metadata": {},
   "outputs": [
    {
     "data": {
      "text/plain": [
       "[1, 2, 3, 4, 5, 6]"
      ]
     },
     "execution_count": 3,
     "metadata": {},
     "output_type": "execute_result"
    }
   ],
   "source": [
    "s=\"1 2 3 4 5 6\"\n",
    "li=s.split()\n",
    "numberlist=[]\n",
    "for i in li:\n",
    "    numberlist.append(int(i))\n",
    "numberlist"
   ]
  },
  {
   "cell_type": "code",
   "execution_count": null,
   "metadata": {},
   "outputs": [],
   "source": []
  },
  {
   "cell_type": "code",
   "execution_count": 4,
   "metadata": {},
   "outputs": [
    {
     "name": "stdout",
     "output_type": "stream",
     "text": [
      "abc\n"
     ]
    },
    {
     "data": {
      "text/plain": [
       "96"
      ]
     },
     "execution_count": 4,
     "metadata": {},
     "output_type": "execute_result"
    }
   ],
   "source": [
    "s = input()\n",
    "# s=list(s)\n",
    "(ord('a')-1)"
   ]
  },
  {
   "cell_type": "code",
   "execution_count": 5,
   "metadata": {},
   "outputs": [
    {
     "name": "stdout",
     "output_type": "stream",
     "text": [
      "aba\n",
      "4\n"
     ]
    }
   ],
   "source": [
    "s = input()\n",
    "s= list(s)\n",
    "sum =0\n",
    "for i in s:\n",
    "    sum +=ord(i)-(ord('a')-1)\n",
    "print(sum)\n",
    "    "
   ]
  },
  {
   "cell_type": "code",
   "execution_count": 6,
   "metadata": {},
   "outputs": [
    {
     "ename": "NameError",
     "evalue": "name 'a' is not defined",
     "output_type": "error",
     "traceback": [
      "\u001b[1;31m---------------------------------------------------------------------------\u001b[0m",
      "\u001b[1;31mNameError\u001b[0m                                 Traceback (most recent call last)",
      "\u001b[1;32m<ipython-input-6-a5abd646a6a9>\u001b[0m in \u001b[0;36m<module>\u001b[1;34m\u001b[0m\n\u001b[1;32m----> 1\u001b[1;33m \u001b[0mord\u001b[0m\u001b[1;33m(\u001b[0m\u001b[0ma\u001b[0m\u001b[1;33m)\u001b[0m\u001b[1;33m\u001b[0m\u001b[1;33m\u001b[0m\u001b[0m\n\u001b[0m",
      "\u001b[1;31mNameError\u001b[0m: name 'a' is not defined"
     ]
    }
   ],
   "source": [
    "ord(a)"
   ]
  },
  {
   "cell_type": "code",
   "execution_count": null,
   "metadata": {},
   "outputs": [],
   "source": []
  }
 ],
 "metadata": {
  "kernelspec": {
   "display_name": "Python 3",
   "language": "python",
   "name": "python3"
  },
  "language_info": {
   "codemirror_mode": {
    "name": "ipython",
    "version": 3
   },
   "file_extension": ".py",
   "mimetype": "text/x-python",
   "name": "python",
   "nbconvert_exporter": "python",
   "pygments_lexer": "ipython3",
   "version": "3.7.3"
  }
 },
 "nbformat": 4,
 "nbformat_minor": 2
}
